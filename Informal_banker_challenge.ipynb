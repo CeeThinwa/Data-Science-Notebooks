{
  "nbformat": 4,
  "nbformat_minor": 0,
  "metadata": {
    "colab": {
      "name": "Informal_banker_challenge.ipynb",
      "version": "0.3.2",
      "provenance": [],
      "collapsed_sections": [
        "JnRCYViNsSm5",
        "7xE1G1aPcQF2",
        "B0ZV6L3ci25V"
      ]
    },
    "kernelspec": {
      "name": "python3",
      "display_name": "Python 3"
    }
  },
  "cells": [
    {
      "cell_type": "markdown",
      "metadata": {
        "id": "Tn92kqKE-dSJ",
        "colab_type": "text"
      },
      "source": [
        "# Background\n",
        "\n",
        "##What does the banking industry in Kenya look like?\n",
        "The financial industry is regulated by the Central Bank of Kenya. In their [2017 Bank supervision report](https://www.google.com/url?sa=t&rct=j&q=&esrc=s&source=web&cd=2&cad=rja&uact=8&ved=2ahUKEwiiy73ixe3hAhWrx4UKHa2MAi4QFjABegQIARAC&url=https%3A%2F%2Fwww.centralbank.go.ke%2Fuploads%2Fbanking_sector_annual_reports%2F873911276_2017%2520Annual%2520Report.pdf&usg=AOvVaw0wCDQxBN88WJjeo-Q_Mt5O), the banking sector comprised of 8 large, 11 medium and 21 small banks having a combined weighted market share as follows:\n",
        "\n",
        "\n",
        "\n",
        "\n"
      ]
    },
    {
      "cell_type": "code",
      "metadata": {
        "id": "PEsos8sM2Y0R",
        "colab_type": "code",
        "outputId": "3157f9dd-decd-4ab9-9647-76e878959c29",
        "colab": {
          "base_uri": "https://localhost:8080/",
          "height": 368
        }
      },
      "source": [
        "#We import the necessary packages for the notebook\n",
        "import pandas as pd\n",
        "import numpy as np\n",
        "import matplotlib.pyplot as plt\n",
        "import nltk\n",
        "from nltk.tokenize import word_tokenize\n",
        "nltk.download('punkt')\n",
        "from nltk.probability import FreqDist\n",
        "\n",
        "#I also decided to import pycodestyle to ensure that my work is following\n",
        "# PEP 8 conventions\n",
        "!pip install pycodestyle flake8 pycodestyle_magic\n",
        "%load_ext pycodestyle_magic"
      ],
      "execution_count": 1,
      "outputs": [
        {
          "output_type": "stream",
          "text": [
            "[nltk_data] Downloading package punkt to /root/nltk_data...\n",
            "[nltk_data]   Unzipping tokenizers/punkt.zip.\n",
            "Collecting pycodestyle\n",
            "\u001b[?25l  Downloading https://files.pythonhosted.org/packages/0e/0c/04a353e104d2f324f8ee5f4b32012618c1c86dd79e52a433b64fceed511b/pycodestyle-2.5.0-py2.py3-none-any.whl (51kB)\n",
            "\u001b[K     |████████████████████████████████| 51kB 3.5MB/s \n",
            "\u001b[?25hCollecting flake8\n",
            "\u001b[?25l  Downloading https://files.pythonhosted.org/packages/e9/76/b915bd28976068a9843bf836b789794aa4a8eb13338b23581005cd9177c0/flake8-3.7.7-py2.py3-none-any.whl (68kB)\n",
            "\u001b[K     |████████████████████████████████| 71kB 6.2MB/s \n",
            "\u001b[?25hCollecting pycodestyle_magic\n",
            "  Downloading https://files.pythonhosted.org/packages/8a/45/9f0f65ab41d816bed8d37c32e61d2ff49f0b03ef2278ee15aeb6fb8e1ec5/pycodestyle_magic-0.2.5-py2.py3-none-any.whl\n",
            "Collecting mccabe<0.7.0,>=0.6.0 (from flake8)\n",
            "  Downloading https://files.pythonhosted.org/packages/87/89/479dc97e18549e21354893e4ee4ef36db1d237534982482c3681ee6e7b57/mccabe-0.6.1-py2.py3-none-any.whl\n",
            "Requirement already satisfied: entrypoints<0.4.0,>=0.3.0 in /usr/local/lib/python3.6/dist-packages (from flake8) (0.3)\n",
            "Collecting pyflakes<2.2.0,>=2.1.0 (from flake8)\n",
            "\u001b[?25l  Downloading https://files.pythonhosted.org/packages/84/f2/ed0ffb887f8138a8fe5a621b8c0bb9598bfb3989e029f6c6a85ee66628ee/pyflakes-2.1.1-py2.py3-none-any.whl (59kB)\n",
            "\u001b[K     |████████████████████████████████| 61kB 24.1MB/s \n",
            "\u001b[?25hInstalling collected packages: pycodestyle, mccabe, pyflakes, flake8, pycodestyle-magic\n",
            "Successfully installed flake8-3.7.7 mccabe-0.6.1 pycodestyle-2.5.0 pycodestyle-magic-0.2.5 pyflakes-2.1.1\n"
          ],
          "name": "stdout"
        }
      ]
    },
    {
      "cell_type": "code",
      "metadata": {
        "id": "M3YFRYGu2iuw",
        "colab_type": "code",
        "outputId": "a4d973cd-b2d5-4452-ae15-409203e36e87",
        "colab": {
          "base_uri": "https://localhost:8080/",
          "height": 341
        }
      },
      "source": [
        "# %%pycodestyle\n",
        "\n",
        "# Banking sector figures were as follows as at December 2017:\n",
        "\n",
        "# 1. We need to build a table with our percentages\n",
        "# This was done by making a list and converting it to a dataframe\n",
        "print('Large banks have a composite index of 5%+')\n",
        "print('Medium banks have a composite index of 1-5%')\n",
        "print('Small banks have a composite index of <1%')\n",
        "print(' ')\n",
        "Viz1 = [['Large', 0.6598], ['Medium', 0.261], ['Small', 0.0792]]\n",
        "Viz1 = pd.DataFrame(Viz1)\n",
        "Viz1.columns = ['Type', '%']\n",
        "\n",
        "# 2. We need to visualize our data. I chose a pie chart.\n",
        "plt.rcParams[\"font.weight\"] = \"bold\"\n",
        "plt.rcParams[\"text.color\"] = \"blue\"\n",
        "\n",
        "plt.title('Market share of the various players in the banking sector')\n",
        "plt.pie(Viz1['%'], labels=Viz1['Type'], autopct='%.1f%%')\n",
        "plt.show()"
      ],
      "execution_count": 2,
      "outputs": [
        {
          "output_type": "stream",
          "text": [
            "Large banks have a composite index of 5%+\n",
            "Medium banks have a composite index of 1-5%\n",
            "Small banks have a composite index of <1%\n",
            " \n"
          ],
          "name": "stdout"
        },
        {
          "output_type": "display_data",
          "data": {
            "image/png": "[encoded data removed]",
            "text/plain": [
              "<Figure size 432x288 with 1 Axes>"
            ]
          },
          "metadata": {
            "tags": []
          }
        }
      ]
    },
    {
      "cell_type": "markdown",
      "metadata": {
        "id": "4k4IQyGqH9oV",
        "colab_type": "text"
      },
      "source": [
        "From the findings above, it is clear that large banks, though few, dominate the Kenyan market. The report then goes on to show the market leaders in the large banks category: KCB Bank Kenya Ltd., Co-operative Bank of Kenya Ltd. and Equity Bank Kenya Ltd.  "
      ]
    },
    {
      "cell_type": "code",
      "metadata": {
        "id": "h9Z8IZoRMJGd",
        "colab_type": "code",
        "outputId": "53f61d73-4d9d-4a70-fefe-5447b5593d26",
        "colab": {
          "base_uri": "https://localhost:8080/",
          "height": 268
        }
      },
      "source": [
        "# %%pycodestyle\n",
        "\n",
        "# We repeat this process as follows:\n",
        "# 1. Build a table with our percentages\n",
        "Viz2 = [['KCB', 0.1414], ['Co-operative', 0.0993], ['Equity', 0.0985]]\n",
        "Viz2 = pd.DataFrame(Viz2)\n",
        "Viz2.columns = ['Bank', 'MSI']\n",
        "\n",
        "# 2. We need to visualize our data. I chose a pie chart.\n",
        "plt.rcParams[\"font.weight\"] = \"bold\"\n",
        "plt.rcParams[\"text.color\"] = \"blue\"\n",
        "\n",
        "PieSum = Viz2['MSI'].sum()\n",
        "PieList = [(0.1414/PieSum), (0.0993/PieSum), (0.0985/PieSum)]\n",
        "plt.title('Market share index of banking market leaders')\n",
        "plt.pie(PieList, labels=Viz2['Bank'], autopct='%.1f%%')\n",
        "plt.show()"
      ],
      "execution_count": 3,
      "outputs": [
        {
          "output_type": "display_data",
          "data": {
            "image/png": "[encoded data removed]",
            "text/plain": [
              "<Figure size 432x288 with 1 Axes>"
            ]
          },
          "metadata": {
            "tags": []
          }
        }
      ]
    },
    {
      "cell_type": "markdown",
      "metadata": {
        "id": "f31BDtzGSucG",
        "colab_type": "text"
      },
      "source": [
        "##What does the average Kenyan look like?\n",
        "To answer this question, it would be useful to consult the [Kenya National Bureau of Statistics 2019 Economic Survey](https://www.google.com/url?sa=t&rct=j&q=&esrc=s&source=web&cd=1&cad=rja&uact=8&ved=2ahUKEwiJxJLaxPfhAhXuz4UKHQH6D0cQFjAAegQIABAB&url=https%3A%2F%2Fwww.knbs.or.ke%2Fdownload%2Feconomic-survey-2019%2F&usg=AOvVaw2xSFbt8xPunziSXB1wGS83) and the [Kenya National Bureau of Statistics 2018 Economic Survey](https://www.google.com/url?sa=t&rct=j&q=&esrc=s&source=web&cd=1&cad=rja&uact=8&ved=2ahUKEwi6m8iTyffhAhUKExoKHZhkDqUQFjAAegQIABAB&url=https%3A%2F%2Fwww.knbs.or.ke%2Fdownload%2Feconomic-survey-2018%2F&usg=AOvVaw3Mtm3sSOEW5qUlRts_YZro). These reports revealed the following:\n",
        "\n",
        "1.   They spend ~7800 a month as at 2017\n",
        "2.   They mostly work in the informal sector (pg. 50 and pg. 308) - however, please note that their definition of 'employed' is someone who has worked for at least 1 hour within 7 days from the date that respondents were interviewed.\n",
        "\n"
      ]
    },
    {
      "cell_type": "code",
      "metadata": {
        "id": "fp1iFaRaSYpf",
        "colab_type": "code",
        "outputId": "ec09adfe-292d-4ffa-d802-5f28b66391bf",
        "colab": {
          "base_uri": "https://localhost:8080/",
          "height": 537
        }
      },
      "source": [
        "# %%pycodestyle\n",
        "\n",
        "# First we need to visualize consumption\n",
        "# 1. Fetch our data\n",
        "raw = 'https://bit.ly/2WBvizu'\n",
        "Viz3 = pd.read_csv(raw)\n",
        "\n",
        "# 2. Visualize it\n",
        "plt.rcParams[\"font.weight\"] = \"bold\"\n",
        "plt.rcParams[\"text.color\"] = \"blue\"\n",
        "\n",
        "PieSum = Viz3.iloc[0, 1] + Viz3.iloc[0, 2]\n",
        "PieList = [(Viz3.iloc[0, 1]/PieSum), (Viz3.iloc[0, 2]/PieSum)]\n",
        "plt.pie(PieList, labels=['Food', 'Non-food'], autopct='%.1f%%')\n",
        "plt.title('National expenditure on food and non-food items')\n",
        "plt.show()\n",
        "\n",
        "print(' ')\n",
        "a = Viz3.iloc[1, 3]\n",
        "b = Viz3.iloc[2, 3]\n",
        "c = Viz3.iloc[3, 3]\n",
        "PieSum = a + b + c\n",
        "PieList = [(a/PieSum), (b/PieSum), (c/PieSum)]\n",
        "plt.pie(PieList, labels=['Rural', 'Peri-urban', 'Core'], autopct='%.1f%%')\n",
        "plt.title('Total expenditure in Kenyan rural, peri-urban and core urban areas')\n",
        "plt.show()"
      ],
      "execution_count": 4,
      "outputs": [
        {
          "output_type": "display_data",
          "data": {
            "image/png": "[encoded data removed]",
            "text/plain": [
              "<Figure size 432x288 with 1 Axes>"
            ]
          },
          "metadata": {
            "tags": []
          }
        },
        {
          "output_type": "stream",
          "text": [
            " \n"
          ],
          "name": "stdout"
        },
        {
          "output_type": "display_data",
          "data": {
            "image/png": "[encoded data removed]",
            "text/plain": [
              "<Figure size 432x288 with 1 Axes>"
            ]
          },
          "metadata": {
            "tags": []
          }
        }
      ]
    },
    {
      "cell_type": "code",
      "metadata": {
        "id": "oWHIo6FABlVm",
        "colab_type": "code",
        "outputId": "1a85bbd5-c10e-40a7-9509-24ae10ce9e28",
        "colab": {
          "base_uri": "https://localhost:8080/",
          "height": 363
        }
      },
      "source": [
        "# %%pycodestyle\n",
        "\n",
        "# Secondly, we visualize employment\n",
        "# 1. Get the data\n",
        "Viz4 = pd.read_csv('https://bit.ly/30hSjti')\n",
        "\n",
        "# 2. Then visualize trends for Wage Employees and Informal Sector workers\n",
        "year = ['2014', '2015', '2016', '2017', '2018']\n",
        "WageEmployees = [2401800, 2513700, 2592000, 2699500, 2765100]\n",
        "a = Viz4['2014'].sum()\n",
        "b = Viz4['2015'].sum()\n",
        "c = Viz4['2016'].sum()\n",
        "d = Viz4['2017'].sum()\n",
        "e = Viz4['2018'].sum()\n",
        "InformalEmployees = [a, b, c, d, e]\n",
        "\n",
        "plt.rcParams[\"font.weight\"] = \"bold\"\n",
        "plt.rcParams[\"text.color\"] = \"blue\"\n",
        "\n",
        "plt.xlabel('Year')\n",
        "plt.ylabel(\"Number of recorded workers (in '0,000,000s)\")\n",
        "\n",
        "plt.plot(year, WageEmployees, color='red')\n",
        "plt.plot(year, InformalEmployees, color='orange')\n",
        "\n",
        "print('The graph below shows the number of recorded employees in both sectors')\n",
        "print('for the 2014-2018 period.')\n",
        "print('Wage employees are represented by the red line')\n",
        "print('and informal sector employees by the orange line.')\n",
        "plt.show()"
      ],
      "execution_count": 5,
      "outputs": [
        {
          "output_type": "stream",
          "text": [
            "The graph below shows the number of recorded employees in both sectors\n",
            "for the 2014-2018 period.\n",
            "Wage employees are represented by the red line\n",
            "and informal sector employees by the orange line.\n"
          ],
          "name": "stdout"
        },
        {
          "output_type": "display_data",
          "data": {
            "image/png": "[encoded data removed]",
            "text/plain": [
              "<Figure size 432x288 with 1 Axes>"
            ]
          },
          "metadata": {
            "tags": []
          }
        }
      ]
    },
    {
      "cell_type": "code",
      "metadata": {
        "id": "YoXA6nIoOEg5",
        "colab_type": "code",
        "outputId": "ddeca714-088f-46fd-cba2-6ccdc6b0d180",
        "colab": {
          "base_uri": "https://localhost:8080/",
          "height": 1633
        }
      },
      "source": [
        "#Now let's breakdown areas of interest within the informal sector\n",
        "print('Informal sector employees are distributed as follows:')\n",
        "\n",
        "plt.title('IN 2013:')\n",
        "plt.pie([(Viz4.iloc[0,1]/Viz4['2013'].sum()), \n",
        "         (Viz4.iloc[1,1]/Viz4['2013'].sum()), \n",
        "         (Viz4.iloc[2,1]/Viz4['2013'].sum()), \n",
        "         (Viz4.iloc[3,1]/Viz4['2013'].sum()), \n",
        "         (Viz4.iloc[4,1]/Viz4['2013'].sum())], \n",
        "        labels= [(Viz4.iloc[0,0]), \n",
        "                 (Viz4.iloc[1,0]), \n",
        "                 (Viz4.iloc[2,0]), \n",
        "                 (Viz4.iloc[3,0]), \n",
        "                 (Viz4.iloc[4,0])], \n",
        "        autopct='%.1f%%', \n",
        "        textprops={'color': \"b\"})\n",
        "plt.show()\n",
        "print(' ')\n",
        "\n",
        "plt.title('IN 2014:')\n",
        "plt.pie([(Viz4.iloc[0,2]/Viz4['2014'].sum()), (Viz4.iloc[1,2]/Viz4['2014'].sum()), (Viz4.iloc[2,2]/Viz4['2014'].sum()), (Viz4.iloc[3,2]/Viz4['2014'].sum()), (Viz4.iloc[4,2]/Viz4['2014'].sum())], labels= [(Viz4.iloc[0,0]), (Viz4.iloc[1,0]), (Viz4.iloc[2,0]), (Viz4.iloc[3,0]), (Viz4.iloc[4,0])], autopct='%.1f%%', textprops={'color': \"b\"})\n",
        "plt.show()\n",
        "print(' ')\n",
        "\n",
        "plt.title('IN 2015:')\n",
        "plt.pie([(Viz4.iloc[0,3]/Viz4['2015'].sum()), (Viz4.iloc[1,3]/Viz4['2015'].sum()), (Viz4.iloc[2,3]/Viz4['2015'].sum()), (Viz4.iloc[3,3]/Viz4['2015'].sum()), (Viz4.iloc[4,3]/Viz4['2015'].sum())], labels= [(Viz4.iloc[0,0]), (Viz4.iloc[1,0]), (Viz4.iloc[2,0]), (Viz4.iloc[3,0]), (Viz4.iloc[4,0])], autopct='%.1f%%', textprops={'color': \"b\"})\n",
        "plt.show()\n",
        "print(' ')\n",
        "\n",
        "plt.title('IN 2016:')\n",
        "plt.pie([(Viz4.iloc[0,4]/Viz4['2016'].sum()), (Viz4.iloc[1,4]/Viz4['2016'].sum()), (Viz4.iloc[2,4]/Viz4['2016'].sum()), (Viz4.iloc[3,4]/Viz4['2016'].sum()), (Viz4.iloc[4,4]/Viz4['2016'].sum())], labels= [(Viz4.iloc[0,0]), (Viz4.iloc[1,0]), (Viz4.iloc[2,0]), (Viz4.iloc[3,0]), (Viz4.iloc[4,0])], autopct='%.1f%%', textprops={'color': \"b\"})\n",
        "plt.show()\n",
        "print(' ')\n",
        "\n",
        "plt.title('IN 2017:')\n",
        "plt.pie([(Viz4.iloc[0,5]/Viz4['2017'].sum()), (Viz4.iloc[1,5]/Viz4['2017'].sum()), (Viz4.iloc[2,5]/Viz4['2017'].sum()), (Viz4.iloc[3,5]/Viz4['2017'].sum()), (Viz4.iloc[4,5]/Viz4['2017'].sum())], labels= [(Viz4.iloc[0,0]), (Viz4.iloc[1,0]), (Viz4.iloc[2,0]), (Viz4.iloc[3,0]), (Viz4.iloc[4,0])], autopct='%.1f%%', textprops={'color': \"b\"})\n",
        "plt.show()\n",
        "print(' ')\n",
        "\n",
        "plt.title('IN 2018:')\n",
        "plt.pie([(Viz4.iloc[0,6]/Viz4['2018'].sum()), (Viz4.iloc[1,6]/Viz4['2018'].sum()), (Viz4.iloc[2,6]/Viz4['2018'].sum()), (Viz4.iloc[3,6]/Viz4['2018'].sum()), (Viz4.iloc[4,6]/Viz4['2018'].sum())], labels= [(Viz4.iloc[0,0]), (Viz4.iloc[1,0]), (Viz4.iloc[2,0]), (Viz4.iloc[3,0]), (Viz4.iloc[4,0])], autopct='%.1f%%', textprops={'color': \"b\"})\n",
        "plt.show()"
      ],
      "execution_count": 6,
      "outputs": [
        {
          "output_type": "stream",
          "text": [
            "Informal sector employees are distributed as follows:\n"
          ],
          "name": "stdout"
        },
        {
          "output_type": "display_data",
          "data": {
            "image/png": "[encoded data removed]",
            "text/plain": [
              "<Figure size 432x288 with 1 Axes>"
            ]
          },
          "metadata": {
            "tags": []
          }
        },
        {
          "output_type": "stream",
          "text": [
            " \n"
          ],
          "name": "stdout"
        },
        {
          "output_type": "display_data",
          "data": {
            "image/png": "[encoded data removed]",
            "text/plain": [
              "<Figure size 432x288 with 1 Axes>"
            ]
          },
          "metadata": {
            "tags": []
          }
        },
        {
          "output_type": "stream",
          "text": [
            " \n"
          ],
          "name": "stdout"
        },
        {
          "output_type": "display_data",
          "data": {
            "image/png": "[encoded data removed]",
            "text/plain": [
              "<Figure size 432x288 with 1 Axes>"
            ]
          },
          "metadata": {
            "tags": []
          }
        },
        {
          "output_type": "stream",
          "text": [
            " \n"
          ],
          "name": "stdout"
        },
        {
          "output_type": "display_data",
          "data": {
            "image/png": "[encoded data removed]",
            "text/plain": [
              "<Figure size 432x288 with 1 Axes>"
            ]
          },
          "metadata": {
            "tags": []
          }
        },
        {
          "output_type": "stream",
          "text": [
            " \n"
          ],
          "name": "stdout"
        },
        {
          "output_type": "display_data",
          "data": {
            "image/png": "[encoded data removed]",
            "text/plain": [
              "<Figure size 432x288 with 1 Axes>"
            ]
          },
          "metadata": {
            "tags": []
          }
        },
        {
          "output_type": "stream",
          "text": [
            " \n"
          ],
          "name": "stdout"
        },
        {
          "output_type": "display_data",
          "data": {
            "image/png": "[encoded data removed]",
            "text/plain": [
              "<Figure size 432x288 with 1 Axes>"
            ]
          },
          "metadata": {
            "tags": []
          }
        }
      ]
    },
    {
      "cell_type": "code",
      "metadata": {
        "id": "rQZgOj-42-6Z",
        "colab_type": "code",
        "outputId": "6767a78e-b5ab-4854-bf71-b4dd02d8f691",
        "colab": {
          "base_uri": "https://localhost:8080/",
          "height": 437
        }
      },
      "source": [
        "print('Therefore, the trends across different industries in the informal sector are are follows:')\n",
        "print('The manufacturing industry is represented by blue.')\n",
        "print('The construction industry is represented by green.')\n",
        "print('The trade, hotels and restaurants industry is represented by purple.')\n",
        "print('The transport and communications industry is represented by red.')\n",
        "print('The community, social and personal services industry is represented by orange.')\n",
        "print('Other industries are represented by grey.')\n",
        "print(' ')\n",
        "\n",
        "year = ['2013', '2014', '2015', '2016', '2017', '2018']\n",
        "Manufacturing = [Viz4.iloc[0,1], Viz4.iloc[0,2], Viz4.iloc[0,3], Viz4.iloc[0,4], Viz4.iloc[0,5], Viz4.iloc[0,6]]\n",
        "Construction = [Viz4.iloc[1,1], Viz4.iloc[1,2], Viz4.iloc[1,3], Viz4.iloc[1,4], Viz4.iloc[1,5], Viz4.iloc[1,6]]\n",
        "THR = [Viz4.iloc[2,1], Viz4.iloc[2,2], Viz4.iloc[2,3], Viz4.iloc[2,4], Viz4.iloc[2,5], Viz4.iloc[2,6]]\n",
        "TC = [Viz4.iloc[3,1], Viz4.iloc[3,2], Viz4.iloc[3,3], Viz4.iloc[3,4], Viz4.iloc[3,5], Viz4.iloc[3,6]]\n",
        "CSP = [Viz4.iloc[4,1], Viz4.iloc[4,2], Viz4.iloc[4,3], Viz4.iloc[4,4], Viz4.iloc[4,5], Viz4.iloc[4,6]]\n",
        "Other = [Viz4.iloc[5,1], Viz4.iloc[5,2], Viz4.iloc[5,3], Viz4.iloc[5,4], Viz4.iloc[5,5], Viz4.iloc[5,6]]\n",
        "\n",
        "plt.plot(year, Manufacturing, color = 'blue')\n",
        "plt.plot(year, Construction, color = 'green')\n",
        "plt.plot(year, THR, color = '#7851a9')\n",
        "plt.plot(year, TC, color = 'red')\n",
        "plt.plot(year, CSP, color = 'orange')\n",
        "plt.plot(year, Other, color = 'grey')\n",
        "plt.xlabel('Year')\n",
        "plt.ylabel('Number of recorded workers (in ''0000000s)')\n",
        "plt.show()"
      ],
      "execution_count": 7,
      "outputs": [
        {
          "output_type": "stream",
          "text": [
            "Therefore, the trends across different industries in the informal sector are are follows:\n",
            "The manufacturing industry is represented by blue.\n",
            "The construction industry is represented by green.\n",
            "The trade, hotels and restaurants industry is represented by purple.\n",
            "The transport and communications industry is represented by red.\n",
            "The community, social and personal services industry is represented by orange.\n",
            "Other industries are represented by grey.\n",
            " \n"
          ],
          "name": "stdout"
        },
        {
          "output_type": "display_data",
          "data": {
            "image/png": "[encoded data removed]",
            "text/plain": [
              "<Figure size 432x288 with 1 Axes>"
            ]
          },
          "metadata": {
            "tags": []
          }
        }
      ]
    },
    {
      "cell_type": "markdown",
      "metadata": {
        "id": "HvtVJVEa7smL",
        "colab_type": "text"
      },
      "source": [
        "Therefore, to summarize our findings, the informal sector is clearly the larger and more vibrant sector of the economy and large commercial banks dominate the banking sector."
      ]
    },
    {
      "cell_type": "markdown",
      "metadata": {
        "id": "JnRCYViNsSm5",
        "colab_type": "text"
      },
      "source": [
        "#Problem statement\n",
        "            \"The informal sector is characterized by small scale activities, easy entry and exit due to fewer regulations, skills gained from vocational institutions, less capital investment, limited job security and also self-employment. This sector however excludes illegal activities such as drug trafficking and others.\"\n",
        "\n",
        "                                                 -Economic Survey 2018\n",
        "\n",
        "\n",
        "\n",
        "I aim to conduct sentiment analysis on Facebook posts uploaded by Kenya's 3 largest banks - 990 posts per bank were sampled with the aim to conduct exploratory data analysis and build an algorithm that\n",
        "can:\n",
        "\n",
        "1.   identify customers from the informal sector\n",
        "2.   Classify these informal customers' sentiments\n"
      ]
    },
    {
      "cell_type": "code",
      "metadata": {
        "id": "pyw-SORuolE0",
        "colab_type": "code",
        "outputId": "b18c5d28-4ceb-46fa-e0ff-2980c7e57249",
        "colab": {
          "base_uri": "https://localhost:8080/",
          "height": 0
        }
      },
      "source": [
        "#%%pycodestyle\n",
        "\n",
        "Equity = pd.read_csv('https://raw.githubusercontent.com/CeeThinwa/DataScienceLearningDatasets/master/page_160566687422299_2019_04_20_18_08_01_comments.csv?token=AKYHWCSMF4VLAQ3C7YXIB724XY3VG')\n",
        "Co_op = pd.read_csv('https://raw.githubusercontent.com/CeeThinwa/DataScienceLearningDatasets/master/page_167665299973840_2019_04_20_17_16_12_comments.csv?token=AKYHWCUGWAJIYVN2EOK4TVS4XY36E')\n",
        "KCB = pd.read_csv('https://raw.githubusercontent.com/CeeThinwa/DataScienceLearningDatasets/master/page_177618962271930_2019_04_20_18_44_34_comments.csv?token=AKYHWCSBTO5VMSWXT7PJ2EC4XY4CM')\n",
        "\n",
        "#Add a column that identifies which bank page the user is on\n",
        "Equity['Bank'] = 'Equity'\n",
        "KCB['Bank'] = 'KCB'\n",
        "Co_op['Bank'] = 'Co-op'\n",
        "\n",
        "print(Equity.shape)\n",
        "print(KCB.shape)\n",
        "print(Co_op.shape)\n",
        "\n",
        "Co_op.head(5)"
      ],
      "execution_count": 8,
      "outputs": [
        {
          "output_type": "stream",
          "text": [
            "(41454, 14)\n",
            "(68117, 14)\n",
            "(70488, 14)\n"
          ],
          "name": "stdout"
        },
        {
          "output_type": "execute_result",
          "data": {
            "text/html": [
              "<div>\n",
              "<style scoped>\n",
              "    .dataframe tbody tr th:only-of-type {\n",
              "        vertical-align: middle;\n",
              "    }\n",
              "\n",
              "    .dataframe tbody tr th {\n",
              "        vertical-align: top;\n",
              "    }\n",
              "\n",
              "    .dataframe thead th {\n",
              "        text-align: right;\n",
              "    }\n",
              "</style>\n",
              "<table border=\"1\" class=\"dataframe\">\n",
              "  <thead>\n",
              "    <tr style=\"text-align: right;\">\n",
              "      <th></th>\n",
              "      <th>position</th>\n",
              "      <th>post_id</th>\n",
              "      <th>post_by</th>\n",
              "      <th>post_text</th>\n",
              "      <th>post_published</th>\n",
              "      <th>comment_id</th>\n",
              "      <th>comment_by</th>\n",
              "      <th>is_reply</th>\n",
              "      <th>comment_message</th>\n",
              "      <th>comment_published</th>\n",
              "      <th>comment_like_count</th>\n",
              "      <th>attachment_type</th>\n",
              "      <th>attachment_url</th>\n",
              "      <th>Bank</th>\n",
              "    </tr>\n",
              "  </thead>\n",
              "  <tbody>\n",
              "    <tr>\n",
              "      <th>0</th>\n",
              "      <td>0_0</td>\n",
              "      <td>167665299973840_2618333928240286</td>\n",
              "      <td>0ddb80635cd72093adc37322c7cb53f97b94ee8f</td>\n",
              "      <td>Travelling this Easter season ama uko mtaa?</td>\n",
              "      <td>2019-04-20T05:30:31+0000</td>\n",
              "      <td>2618333928240286_2618521441554868</td>\n",
              "      <td>pageowner</td>\n",
              "      <td>1</td>\n",
              "      <td>Hallo David, we have one month and 3 months re...</td>\n",
              "      <td>2019-04-20T07:31:46+0000</td>\n",
              "      <td>0</td>\n",
              "      <td>NaN</td>\n",
              "      <td>NaN</td>\n",
              "      <td>Co-op</td>\n",
              "    </tr>\n",
              "    <tr>\n",
              "      <th>1</th>\n",
              "      <td>0_1</td>\n",
              "      <td>167665299973840_2618333928240286</td>\n",
              "      <td>0ddb80635cd72093adc37322c7cb53f97b94ee8f</td>\n",
              "      <td>Travelling this Easter season ama uko mtaa?</td>\n",
              "      <td>2019-04-20T05:30:31+0000</td>\n",
              "      <td>2618333928240286_2618538161553196</td>\n",
              "      <td>da39a3ee5e6b4b0d3255bfef95601890afd80709</td>\n",
              "      <td>1</td>\n",
              "      <td>Co-op Bank Kenya do not have other loan produc...</td>\n",
              "      <td>2019-04-20T07:42:19+0000</td>\n",
              "      <td>0</td>\n",
              "      <td>NaN</td>\n",
              "      <td>NaN</td>\n",
              "      <td>Co-op</td>\n",
              "    </tr>\n",
              "    <tr>\n",
              "      <th>2</th>\n",
              "      <td>0_2</td>\n",
              "      <td>167665299973840_2618333928240286</td>\n",
              "      <td>0ddb80635cd72093adc37322c7cb53f97b94ee8f</td>\n",
              "      <td>Travelling this Easter season ama uko mtaa?</td>\n",
              "      <td>2019-04-20T05:30:31+0000</td>\n",
              "      <td>2618333928240286_2618544508219228</td>\n",
              "      <td>pageowner</td>\n",
              "      <td>1</td>\n",
              "      <td>Yes we have personal loan which you can apply ...</td>\n",
              "      <td>2019-04-20T07:46:28+0000</td>\n",
              "      <td>0</td>\n",
              "      <td>NaN</td>\n",
              "      <td>NaN</td>\n",
              "      <td>Co-op</td>\n",
              "    </tr>\n",
              "    <tr>\n",
              "      <th>3</th>\n",
              "      <td>0_3</td>\n",
              "      <td>167665299973840_2618333928240286</td>\n",
              "      <td>0ddb80635cd72093adc37322c7cb53f97b94ee8f</td>\n",
              "      <td>Travelling this Easter season ama uko mtaa?</td>\n",
              "      <td>2019-04-20T05:30:31+0000</td>\n",
              "      <td>2618333928240286_2618556491551363</td>\n",
              "      <td>da39a3ee5e6b4b0d3255bfef95601890afd80709</td>\n",
              "      <td>1</td>\n",
              "      <td>How to I pay the salary loan via mobile banking</td>\n",
              "      <td>2019-04-20T07:53:56+0000</td>\n",
              "      <td>0</td>\n",
              "      <td>NaN</td>\n",
              "      <td>NaN</td>\n",
              "      <td>Co-op</td>\n",
              "    </tr>\n",
              "    <tr>\n",
              "      <th>4</th>\n",
              "      <td>0_4</td>\n",
              "      <td>167665299973840_2618333928240286</td>\n",
              "      <td>0ddb80635cd72093adc37322c7cb53f97b94ee8f</td>\n",
              "      <td>Travelling this Easter season ama uko mtaa?</td>\n",
              "      <td>2019-04-20T05:30:31+0000</td>\n",
              "      <td>2618333928240286_2618563248217354</td>\n",
              "      <td>pageowner</td>\n",
              "      <td>1</td>\n",
              "      <td>Please check inbox for our response. ^FK</td>\n",
              "      <td>2019-04-20T07:57:34+0000</td>\n",
              "      <td>0</td>\n",
              "      <td>NaN</td>\n",
              "      <td>NaN</td>\n",
              "      <td>Co-op</td>\n",
              "    </tr>\n",
              "  </tbody>\n",
              "</table>\n",
              "</div>"
            ],
            "text/plain": [
              "  position                           post_id  ... attachment_url   Bank\n",
              "0      0_0  167665299973840_2618333928240286  ...            NaN  Co-op\n",
              "1      0_1  167665299973840_2618333928240286  ...            NaN  Co-op\n",
              "2      0_2  167665299973840_2618333928240286  ...            NaN  Co-op\n",
              "3      0_3  167665299973840_2618333928240286  ...            NaN  Co-op\n",
              "4      0_4  167665299973840_2618333928240286  ...            NaN  Co-op\n",
              "\n",
              "[5 rows x 14 columns]"
            ]
          },
          "metadata": {
            "tags": []
          },
          "execution_count": 8
        }
      ]
    },
    {
      "cell_type": "markdown",
      "metadata": {
        "id": "P2H12Gph-NPG",
        "colab_type": "text"
      },
      "source": [
        "# My Solution\n",
        "## Exploratory Data Analysis\n",
        "When conducting text analysis, it is often recommended that all words should be lowercase for ease of analysis. Therefore, before we begin our EDA(Exploratory Data Analysis), we should  probably do that."
      ]
    },
    {
      "cell_type": "code",
      "metadata": {
        "id": "BDaXElZCNEzC",
        "colab_type": "code",
        "outputId": "b30f841f-f20c-4d1d-ce3f-855ce10df9a2",
        "colab": {
          "base_uri": "https://localhost:8080/",
          "height": 237
        }
      },
      "source": [
        "# Let's print out the initial shapes of the 3 bank datasets:\n",
        "print('Before data clean-up, below were the shapes of the 3 bank datasets:')\n",
        "print('Co-op had a shape of ' + str(Co_op.shape))\n",
        "print('KCB had a shape of ' + str(KCB.shape))\n",
        "print('and')\n",
        "print('Equity had a shape of ' + str(Equity.shape))\n",
        "\n",
        "# First, we drop unnecessary columns or columns with too many NaN values\n",
        "Co_op = Co_op.drop(labels = 'attachment_type', axis = 1)\n",
        "Co_op = Co_op.drop(labels = 'attachment_url', axis = 1)\n",
        "\n",
        "KCB = KCB.drop(labels = 'attachment_type', axis = 1)\n",
        "KCB = KCB.drop(labels = 'attachment_url', axis = 1)\n",
        "\n",
        "Equity = Equity.drop(labels = 'attachment_type', axis = 1)\n",
        "Equity = Equity.drop(labels = 'attachment_url', axis = 1)\n",
        "\n",
        "# and rows with NaN values\n",
        "Co_op = Co_op.dropna(axis=0, how='any')\n",
        "KCB = KCB.dropna(axis=0, how='any')\n",
        "Equity = Equity.dropna(axis=0, how='any')\n",
        "\n",
        "# All our comments should then be lowercase as follows:\n",
        "Co_op['post_text'] = Co_op['post_text'].str.lower()\n",
        "Co_op['comment_message'] = Co_op['comment_message'].str.lower()\n",
        "\n",
        "# Finally, we have clean output!\n",
        "# Let's print out the initial shapes of the 3 bank datasets:\n",
        "print('-----------------------------------------------------------------------')\n",
        "print('After data clean-up, below are the shapes of the 3 bank datasets:')\n",
        "print('Co-op has a shape of ' + str(Co_op.shape))\n",
        "print('KCB has a shape of ' + str(KCB.shape))\n",
        "print('and')\n",
        "print('Equity has a shape of ' + str(Equity.shape))\n",
        "print(' ')"
      ],
      "execution_count": 9,
      "outputs": [
        {
          "output_type": "stream",
          "text": [
            "Before data clean-up, below were the shapes of the 3 bank datasets:\n",
            "Co-op had a shape of (70488, 14)\n",
            "KCB had a shape of (68117, 14)\n",
            "and\n",
            "Equity had a shape of (41454, 14)\n",
            "-----------------------------------------------------------------------\n",
            "After data clean-up, below are the shapes of the 3 bank datasets:\n",
            "Co-op has a shape of (69718, 12)\n",
            "KCB has a shape of (67162, 12)\n",
            "and\n",
            "Equity has a shape of (41113, 12)\n",
            " \n"
          ],
          "name": "stdout"
        }
      ]
    },
    {
      "cell_type": "markdown",
      "metadata": {
        "id": "fkBcnYX7Vm0E",
        "colab_type": "text"
      },
      "source": [
        "As seen from our output, we lost 770 Co-op comments, 955 KCB comments and 341 Equity comments.\n",
        "\n",
        "---\n"
      ]
    },
    {
      "cell_type": "markdown",
      "metadata": {
        "id": "4yCYUY6sW_6f",
        "colab_type": "text"
      },
      "source": [
        "Next, we have to compare different attributes across the different banks. To identify informal bank customers, we need to calculate the following:\n",
        "1.   The number of replies that each bank has received; higher values indicate higher engagement and vice-versa.\n",
        "2.   The most frequent words in the bank comments to identify words that would indicate that their customer base are in the informal sector\n",
        "3.   The highest engagement per post and per user for each bank to identify the most popular post and determine if that post is reflective of the informal sector to prequalify that particular bank as having a substantial informal customer base.\n"
      ]
    },
    {
      "cell_type": "markdown",
      "metadata": {
        "id": "7xE1G1aPcQF2",
        "colab_type": "text"
      },
      "source": [
        "###1. Number of replies\n",
        "In this case, we created a dataframe that could identify the number of replies per bank;  it was found that KCB Bank had the highest number of replies compared to the other 2 banks - this could indicate that even though it has fewer comments than Co-op Bank, it has more engagement because many replies could signal that conversations are being heard."
      ]
    },
    {
      "cell_type": "code",
      "metadata": {
        "id": "VfSpR0RIdn-8",
        "colab_type": "code",
        "outputId": "c780567d-f108-442b-dbeb-a922b9959aaa",
        "colab": {
          "base_uri": "https://localhost:8080/",
          "height": 0
        }
      },
      "source": [
        "# Firstly, we identify the number of comments that are replies and those \n",
        "# that are not for the various banks by creating grouped tables of our findings\n",
        "Co_opGroup = Co_op.groupby(['is_reply'])\n",
        "Co_opGroup = pd.DataFrame(Co_opGroup.size().reset_index(name = 'Co_opCount'))\n",
        "\n",
        "KCBGroup = KCB.groupby(['is_reply'])\n",
        "KCBGroup = pd.DataFrame(KCBGroup.size().reset_index(name = 'KCBCount'))\n",
        "\n",
        "EquityGroup = Equity.groupby(['is_reply'])\n",
        "EquityGroup = pd.DataFrame(EquityGroup.size().reset_index(name = 'EquityCount'))\n",
        "\n",
        "OurTable = Co_opGroup\n",
        "OurTable['Co_opCount'] = Co_opGroup['Co_opCount']\n",
        "OurTable['KCBCount'] = KCBGroup['KCBCount']\n",
        "OurTable['EquityCount'] = EquityGroup['EquityCount']\n",
        "\n",
        "OurTable.head()"
      ],
      "execution_count": 10,
      "outputs": [
        {
          "output_type": "execute_result",
          "data": {
            "text/html": [
              "<div>\n",
              "<style scoped>\n",
              "    .dataframe tbody tr th:only-of-type {\n",
              "        vertical-align: middle;\n",
              "    }\n",
              "\n",
              "    .dataframe tbody tr th {\n",
              "        vertical-align: top;\n",
              "    }\n",
              "\n",
              "    .dataframe thead th {\n",
              "        text-align: right;\n",
              "    }\n",
              "</style>\n",
              "<table border=\"1\" class=\"dataframe\">\n",
              "  <thead>\n",
              "    <tr style=\"text-align: right;\">\n",
              "      <th></th>\n",
              "      <th>is_reply</th>\n",
              "      <th>Co_opCount</th>\n",
              "      <th>KCBCount</th>\n",
              "      <th>EquityCount</th>\n",
              "    </tr>\n",
              "  </thead>\n",
              "  <tbody>\n",
              "    <tr>\n",
              "      <th>0</th>\n",
              "      <td>0</td>\n",
              "      <td>30755</td>\n",
              "      <td>25457</td>\n",
              "      <td>13703</td>\n",
              "    </tr>\n",
              "    <tr>\n",
              "      <th>1</th>\n",
              "      <td>1</td>\n",
              "      <td>38963</td>\n",
              "      <td>41705</td>\n",
              "      <td>27410</td>\n",
              "    </tr>\n",
              "  </tbody>\n",
              "</table>\n",
              "</div>"
            ],
            "text/plain": [
              "   is_reply  Co_opCount  KCBCount  EquityCount\n",
              "0         0       30755     25457        13703\n",
              "1         1       38963     41705        27410"
            ]
          },
          "metadata": {
            "tags": []
          },
          "execution_count": 10
        }
      ]
    },
    {
      "cell_type": "markdown",
      "metadata": {
        "id": "B0ZV6L3ci25V",
        "colab_type": "text"
      },
      "source": [
        "###2. Most frequent words in the comments\n",
        "From the table above, we can see that the bulk of the comments are replies across all 3 banks. But what happens when we look for the most common word in each comment?"
      ]
    },
    {
      "cell_type": "code",
      "metadata": {
        "id": "LfJYum8wq_NR",
        "colab_type": "code",
        "colab": {}
      },
      "source": [
        "# We can tokenize Co-op words for practice as follows:\n",
        "# c_tokens = Co_op.apply(lambda row:\n",
        "  #                      nltk.word_tokenize(row['comment_message']),\n",
        "  #                      axis=1)"
      ],
      "execution_count": 0,
      "outputs": []
    },
    {
      "cell_type": "code",
      "metadata": {
        "id": "XW5M0rwnTiAg",
        "colab_type": "code",
        "outputId": "170bd1aa-e8b7-4864-b3d9-851511143523",
        "colab": {
          "base_uri": "https://localhost:8080/",
          "height": 0
        }
      },
      "source": [
        "# I used the FreqDist function to do this as shown:\n",
        "Co_op_Fdist = nltk.FreqDist(Co_op['comment_message'])\n",
        "KCB_Fdist = nltk.FreqDist(KCB['comment_message'])\n",
        "Equity_Fdist = nltk.FreqDist(Equity['comment_message'])\n",
        "\n",
        "# I then picked the 50 most common expressions in each as the 3 datasets as shown:\n",
        "Co_op_Mode = Co_op_Fdist.most_common(50)\n",
        "KCB_Mode = KCB_Fdist.most_common(50)\n",
        "Equity_Mode = Equity_Fdist.most_common(50)\n",
        "\n",
        "# And presented my findings below:\n",
        "print(\"Co-op Bank's top 50 most common expressions were:\")\n",
        "print(Co_op_Mode)\n",
        "print(' ')\n",
        "print(\"KCB Bank's top 50 most common expressions were:\")\n",
        "print(KCB_Mode)\n",
        "print(' ')\n",
        "print(\"Equity Bank's top 50 most common expressions were:\")\n",
        "print(Equity_Mode)\n",
        "print('-----------------------------------------------------------------------')"
      ],
      "execution_count": 12,
      "outputs": [
        {
          "output_type": "stream",
          "text": [
            "Co-op Bank's top 50 most common expressions were:\n",
            "[('?. ^fk', 668), ('?^wn', 450), ('thanks', 286), ('?. ^bk', 203), ('?. ^jm', 202), ('?. ^bm', 192), ('?^ck', 169), ('?  ^pk', 164), ('amen', 163), ('chemistry', 155), ('thanks for sharing. ^bm', 152), ('thank you', 146), ('???. ^fk', 145), ('??? ^fk', 145), ('geography', 143), ('6', 138), ('2100', 132), ('1000', 124), ('correct ^rn', 123), ('??. ^bm', 122), ('24', 121), ('2', 118), ('ok', 114), ('biology', 114), ('?.^ca', 110), ('physics', 109), ('?^mw', 108), ('???^wn', 107), ('0', 90), ('true', 89), ('thank you for sharing.^jm', 86), ('?.^gb', 84), ('2000', 82), ('??. ^fk', 76), ('1k', 70), ('zero', 68), ('2k', 68), ('?.^wm', 65), ('you are most welcome. thank you. ^kj', 65), ('?.^mbm', 59), ('smokie', 58), ('? ^wn', 56), ('?. ^ja', 55), ('mutura', 55), ('yes', 54), ('4', 52), ('?^jm', 51), ('none', 49), ('??? ^bm', 48), ('?. ^pk', 47)]\n",
            " \n",
            "KCB Bank's top 50 most common expressions were:\n",
            "[('?', 1814), ('??', 996), ('???', 312), ('Hi, kindly share your details via INBOX for further assistance *BM', 301), ('Hi, the loan limit is automatic based on account deposit and transaction history, and credit score. Maintain a good credit score and actively use the KCB M-PESA account to grow the limit. *BM', 181), ('Hi, share the error message you are getting *BM', 168), ('????', 130), ('Hi, share your details via INBOX for further assistance *BM', 122), ('Hi, unfortunately once you have been listed on CRB you may not be eligible for a loan on the Mobile facility for upto 5 years consider application for a personal loan subject to a branch appraisal. ^BM', 115), ('Ok', 106), ('Share your details via INBOX for further assistance *BM', 94), ('Hi, your CRB rating depends on an overall credit rating based on financial management across all financial institutions you have a facility with.  To ensure a good credit rating, please meet your financial obligations on time.^MK', 89), ('Hi, which type of loan? *BM', 88), ('Hi, kindly INBOX details. ^NK', 87), ('? ?', 87), ('We are on it *BM', 87), ('Hello, kindly share with us your account details via INBOX for further follow up.^MK', 83), ('Thanks', 79), ('Hi, kindly share your details via INBOX for checking. ^MD', 75), ('Pesa', 67), ('Hello, kindly share with us your account details via DM for further follow up.^MK', 66), ('As advised *BM', 60), ('Hi, how can we assist you? ^JT', 59), ('KCB Group ok', 58), ('Kcb mpesa', 58), ('Thank you', 52), ('Hello, kindly be advised that once you have been listed on CRB negatively and even cleared you will not be able to access our mobile loans . However, you can access any other of our loans facilities from the branch .^MK', 51), ('Hi, kindly clarify. ^MD', 50), ('?????', 50), ('Yes', 49), ('Hello, kindly share your details via inbox for assistance *BM', 49), ('KCB Group', 43), ('Hahaha', 43), ('Hi, kindly note that the KCB mpesa service loan limit is generated purely by the system whereby it checks for ones transactions and savings on the account. If they are increased, then the loan limit will be increased ^CK', 42), ('Hi, we are on it *BM', 42), ('Hi. The limit is reviewed from time to time depending on your credit rating and the amount you save in your KCB Mpesa and MPESA account. Kindly increase the savings in both accounts to grow your limit. ^EO', 41), ('Hello, click on Mpesa -My account  -Update customer menu  -Enter Mpesa pin if it declines please visit any Safaricom shop for sim update.^MK', 40), ('Hello, on it .^MK', 38), ('Hi, kindly inbox your mobile number for assistance. Thanks ^CK', 38), ('You are welcome. ^JT', 37), ('On it. ^EO', 34), ('??????', 34), ('Hi, the loan limit is automatic based on your credit score and account deposit and transaction history. Maintain a good credit score and actively use the KCB M-PESA account to grow the limit.  ^HG', 34), (\"Hi, Please advise what's the issue and we'll be glad to assist. ^JM\", 34), ('David and Goliath', 34), ('Most welcome. ^VB', 33), ('Hi, which type of loan are you referring to? ^JR', 32), ('KCB Group thanks', 31), ('Most welcome. ^EO', 31), ('Rip', 31)]\n",
            " \n",
            "Equity Bank's top 50 most common expressions were:\n",
            "[('?', 602), ('Short', 141), ('??', 125), ('Most welcome.', 120), ('Thanks', 98), ('Thank you.', 91), ('Congratulations', 68), ('Ok', 63), ('Thank you', 56), ('Equity Bank Kenya', 44), ('?.', 38), ('Amen', 33), ('Success', 33), ('Karibu.', 32), ('Equity Bank Kenya ok', 30), ('Nice', 29), ('Please see our response via inbox.', 28), ('Okay', 26), ('We have engaged you via inbox. Kindly check our response.', 26), ('Excellent', 24), ('Yes', 23), ('short', 22), ('???', 21), ('Equity Bank Kenya thanks', 21), ('Check your inbox', 19), ('Congrats', 19), ('All the best', 19), ('Beautiful', 19), ('??.', 18), ('Wow', 17), ('Great', 16), ('Shorter', 16), ('Equity Bank Kenya thank you', 15), ('Welcome', 15), ('Hi, please see our response via inbox.', 15), ('No', 15), ('I can sing', 15), ('Awesome ?', 14), ('SHORT', 14), ('Thanks.', 14), ('Awesome', 14), ('Equity Bank Kenya okay', 13), ('????', 13), ('Hi', 13), ('Check inbox', 13), (\"You're most welcome.\", 13), ('Vision', 13), ('ok', 12), ('Good job', 12), ('Equity Bank Kenya ?', 12)]\n",
            "-----------------------------------------------------------------------\n"
          ],
          "name": "stdout"
        }
      ]
    },
    {
      "cell_type": "markdown",
      "metadata": {
        "id": "xTgZAfyHeFCw",
        "colab_type": "text"
      },
      "source": [
        "The output above is quite interesting.\n",
        "> For starters, Co-op customers appear to be hungry informal workers! Kenyan sheng words for food e.g. \"mutura\" (African sausage) and \"smokie\"(processed sausage) ppear in our 50 most frequent expressions for Co-op.\n",
        "\n",
        "> KCB customers, on the other hand, appear loan hungry, with some defaulting on their small loans and appearing to try and have their names removed from a Credit Reference Bureau list so that they can borrow again. [Informal sector workers have heavily adopted mobile money](https://www.the-star.co.ke/opinion/columnists/2019-04-01-making-life-easier-for-borrowers/) but a large segment of the Kenyan population are [still financially illiterate](https://www.businessdailyafrica.com/datahub/Alarm-as-easy-digital-loans-yoke-more-Kenyans-to-debt/3815418-5063014-en2bp7z/index.html) when it comes to seeking and servicing loans.\n",
        "\n",
        ">Equity staff on the other hand are rolling out the red carpet for their customer - \"Karibu\" was used quite a lot; the expression is used by both formal and informal sector workers. Customers are also appreciative of this treatment."
      ]
    },
    {
      "cell_type": "markdown",
      "metadata": {
        "id": "VzjK1UkyisQR",
        "colab_type": "text"
      },
      "source": [
        "###3. Most comments per post and per user\n",
        "Another key concern that we must address is this: which posts across the 3 banks had the highest number of comments per post and per user?"
      ]
    },
    {
      "cell_type": "code",
      "metadata": {
        "id": "E_M0lTYIi39H",
        "colab_type": "code",
        "colab": {}
      },
      "source": [
        "# To get this, we will have a grouped table for each of the banks\n",
        "# Grouping per post id\n",
        "Co_opGroup = Co_op.groupby(['post_id'])\n",
        "Co_opGroup1 = pd.DataFrame(Co_opGroup.size().reset_index(name='Co_opPostCount'))\n",
        "\n",
        "KCBGroup = KCB.groupby(['post_id'])\n",
        "KCBGroup1 = pd.DataFrame(KCBGroup.size().reset_index(name='KCBPostCount'))\n",
        "\n",
        "EquityGroup = Equity.groupby(['post_id'])\n",
        "EquityGroup1 = pd.DataFrame(EquityGroup.size().reset_index(name='EquityPostCount'))\n",
        "\n",
        "# Then per user id\n",
        "Co_opGroup = Co_op.groupby(['comment_by'])\n",
        "Co_opGroup2 = pd.DataFrame(Co_opGroup.size().reset_index(name = 'Co_opUserCount'))\n",
        "\n",
        "KCBGroup = KCB.groupby(['comment_by'])\n",
        "KCBGroup2 = pd.DataFrame(KCBGroup.size().reset_index(name = 'KCBUserCount'))\n",
        "\n",
        "EquityGroup = Equity.groupby(['comment_by'])\n",
        "EquityGroup2 = pd.DataFrame(EquityGroup.size().reset_index(name = 'EquityUserCount'))"
      ],
      "execution_count": 0,
      "outputs": []
    },
    {
      "cell_type": "code",
      "metadata": {
        "id": "7TzZVwVltZuJ",
        "colab_type": "code",
        "colab": {
          "base_uri": "https://localhost:8080/",
          "height": 388
        },
        "outputId": "eb5e3bdd-f74c-45d6-a8ed-536e60ac8f9b"
      },
      "source": [
        "# Now we can visualize!\n",
        "# To make a bar graph of post id counts, we do the following:\n",
        "plt.title('Number of comments per post')\n",
        "\n",
        "plt.rcParams[\"font.weight\"] = \"bold\"\n",
        "plt.rcParams[\"text.color\"] = \"blue\"\n",
        "\n",
        "plt.xlabel('Post')\n",
        "plt.ylabel('Number of comments')\n",
        "\n",
        "plt.bar(Co_opGroup1['post_id'], Co_opGroup1['Co_opPostCount'], color='green')\n",
        "plt.bar(KCBGroup1['post_id'], KCBGroup1['KCBPostCount'], color='blue')\n",
        "plt.bar(EquityGroup1['post_id'], EquityGroup1['EquityPostCount'], color='orange')\n",
        "\n",
        "print('The graph below shows the number of comments per post')\n",
        "print('Co-op is represented by green,')\n",
        "print('KCB by blue')\n",
        "print('and')\n",
        "print('Equity by orange.')\n",
        "plt.show()"
      ],
      "execution_count": 17,
      "outputs": [
        {
          "output_type": "stream",
          "text": [
            "The graph below shows the number of comments per post\n",
            "Co-op is represented by green,\n",
            "KCB by blue\n",
            "and\n",
            "Equity by orange.\n"
          ],
          "name": "stdout"
        },
        {
          "output_type": "display_data",
          "data": {
            "image/png": "[encoded data removed]",
            "text/plain": [
              "<Figure size 432x288 with 1 Axes>"
            ]
          },
          "metadata": {
            "tags": []
          }
        }
      ]
    },
    {
      "cell_type": "code",
      "metadata": {
        "id": "GC-VG7TyvDqa",
        "colab_type": "code",
        "colab": {
          "base_uri": "https://localhost:8080/",
          "height": 368
        },
        "outputId": "f4c9a556-69f7-4ae1-dc98-425a6f107ff3"
      },
      "source": [
        "# I made a bar graph of user id counts by found that a table was the best way\n",
        "# to visualize data for all 3 banks\n",
        "print('Co-op Bank user id count data has a shape of ' + str(Co_opGroup2.shape))\n",
        "print(' ')\n",
        "Co_opGroup2.head(10)"
      ],
      "execution_count": 27,
      "outputs": [
        {
          "output_type": "stream",
          "text": [
            "Co-op Bank user id count data has a shape of (9, 2)\n",
            " \n"
          ],
          "name": "stdout"
        },
        {
          "output_type": "execute_result",
          "data": {
            "text/html": [
              "<div>\n",
              "<style scoped>\n",
              "    .dataframe tbody tr th:only-of-type {\n",
              "        vertical-align: middle;\n",
              "    }\n",
              "\n",
              "    .dataframe tbody tr th {\n",
              "        vertical-align: top;\n",
              "    }\n",
              "\n",
              "    .dataframe thead th {\n",
              "        text-align: right;\n",
              "    }\n",
              "</style>\n",
              "<table border=\"1\" class=\"dataframe\">\n",
              "  <thead>\n",
              "    <tr style=\"text-align: right;\">\n",
              "      <th></th>\n",
              "      <th>comment_by</th>\n",
              "      <th>Co_opUserCount</th>\n",
              "    </tr>\n",
              "  </thead>\n",
              "  <tbody>\n",
              "    <tr>\n",
              "      <th>0</th>\n",
              "      <td>02a90a569dd3e3a4994fed19c442b4b93a2aa742</td>\n",
              "      <td>14</td>\n",
              "    </tr>\n",
              "    <tr>\n",
              "      <th>1</th>\n",
              "      <td>2c4f366322bbb96ea07fb69bf0f6223f382a9a6d</td>\n",
              "      <td>1</td>\n",
              "    </tr>\n",
              "    <tr>\n",
              "      <th>2</th>\n",
              "      <td>35c5c98233ed845211787ce323419956b746cef4</td>\n",
              "      <td>6</td>\n",
              "    </tr>\n",
              "    <tr>\n",
              "      <th>3</th>\n",
              "      <td>364b38ac4312a00ec841d35b133da63ad582b02c</td>\n",
              "      <td>2</td>\n",
              "    </tr>\n",
              "    <tr>\n",
              "      <th>4</th>\n",
              "      <td>bb24b6ed1f9d0167495b56a073f89fdb0aa1c184</td>\n",
              "      <td>1</td>\n",
              "    </tr>\n",
              "    <tr>\n",
              "      <th>5</th>\n",
              "      <td>da0f7e0faecc658b1a594e055b4fa0813455894c</td>\n",
              "      <td>2</td>\n",
              "    </tr>\n",
              "    <tr>\n",
              "      <th>6</th>\n",
              "      <td>da39a3ee5e6b4b0d3255bfef95601890afd80709</td>\n",
              "      <td>42826</td>\n",
              "    </tr>\n",
              "    <tr>\n",
              "      <th>7</th>\n",
              "      <td>e25ae7d8f012ce95ed9bdee93b62768bfa3019d7</td>\n",
              "      <td>1</td>\n",
              "    </tr>\n",
              "    <tr>\n",
              "      <th>8</th>\n",
              "      <td>pageowner</td>\n",
              "      <td>26865</td>\n",
              "    </tr>\n",
              "  </tbody>\n",
              "</table>\n",
              "</div>"
            ],
            "text/plain": [
              "                                 comment_by  Co_opUserCount\n",
              "0  02a90a569dd3e3a4994fed19c442b4b93a2aa742              14\n",
              "1  2c4f366322bbb96ea07fb69bf0f6223f382a9a6d               1\n",
              "2  35c5c98233ed845211787ce323419956b746cef4               6\n",
              "3  364b38ac4312a00ec841d35b133da63ad582b02c               2\n",
              "4  bb24b6ed1f9d0167495b56a073f89fdb0aa1c184               1\n",
              "5  da0f7e0faecc658b1a594e055b4fa0813455894c               2\n",
              "6  da39a3ee5e6b4b0d3255bfef95601890afd80709           42826\n",
              "7  e25ae7d8f012ce95ed9bdee93b62768bfa3019d7               1\n",
              "8                                 pageowner           26865"
            ]
          },
          "metadata": {
            "tags": []
          },
          "execution_count": 27
        }
      ]
    },
    {
      "cell_type": "code",
      "metadata": {
        "id": "rr0YqfLL1YkG",
        "colab_type": "code",
        "colab": {
          "base_uri": "https://localhost:8080/",
          "height": 494
        },
        "outputId": "dee1d877-26c5-4013-efb5-58b2db45c465"
      },
      "source": [
        "print('KCB Bank user id count data has a shape of ' + str(KCBGroup2.shape))\n",
        "print(' ')\n",
        "KCBGroup2.head(15)"
      ],
      "execution_count": 28,
      "outputs": [
        {
          "output_type": "stream",
          "text": [
            "KCB Bank user id count data has a shape of (13, 2)\n",
            " \n"
          ],
          "name": "stdout"
        },
        {
          "output_type": "execute_result",
          "data": {
            "text/html": [
              "<div>\n",
              "<style scoped>\n",
              "    .dataframe tbody tr th:only-of-type {\n",
              "        vertical-align: middle;\n",
              "    }\n",
              "\n",
              "    .dataframe tbody tr th {\n",
              "        vertical-align: top;\n",
              "    }\n",
              "\n",
              "    .dataframe thead th {\n",
              "        text-align: right;\n",
              "    }\n",
              "</style>\n",
              "<table border=\"1\" class=\"dataframe\">\n",
              "  <thead>\n",
              "    <tr style=\"text-align: right;\">\n",
              "      <th></th>\n",
              "      <th>comment_by</th>\n",
              "      <th>KCBUserCount</th>\n",
              "    </tr>\n",
              "  </thead>\n",
              "  <tbody>\n",
              "    <tr>\n",
              "      <th>0</th>\n",
              "      <td>06defef94d761bc03dc61e7ed967ba52b2cee292</td>\n",
              "      <td>4</td>\n",
              "    </tr>\n",
              "    <tr>\n",
              "      <th>1</th>\n",
              "      <td>073366d65811ace7ceb4a326efef9097ee46416b</td>\n",
              "      <td>1</td>\n",
              "    </tr>\n",
              "    <tr>\n",
              "      <th>2</th>\n",
              "      <td>346256224d3885c2ebe8a13313bc81301286750c</td>\n",
              "      <td>8</td>\n",
              "    </tr>\n",
              "    <tr>\n",
              "      <th>3</th>\n",
              "      <td>59577878e8039a025143ce4e7880676a1be2e809</td>\n",
              "      <td>2</td>\n",
              "    </tr>\n",
              "    <tr>\n",
              "      <th>4</th>\n",
              "      <td>6aa862ed7bf8b6cd422ae6a5f076d2d58229371c</td>\n",
              "      <td>1</td>\n",
              "    </tr>\n",
              "    <tr>\n",
              "      <th>5</th>\n",
              "      <td>7c6b41f394e9263960bd3c6956f9a162f0b3926e</td>\n",
              "      <td>1</td>\n",
              "    </tr>\n",
              "    <tr>\n",
              "      <th>6</th>\n",
              "      <td>a9e9b2ead748b093dd671b9128736c6090aa8a22</td>\n",
              "      <td>1</td>\n",
              "    </tr>\n",
              "    <tr>\n",
              "      <th>7</th>\n",
              "      <td>b31e2051b0d3e7499963f1ee46c832c3b07c53e2</td>\n",
              "      <td>3</td>\n",
              "    </tr>\n",
              "    <tr>\n",
              "      <th>8</th>\n",
              "      <td>b82d96bbf286b8c20434e2bb31801673108f9f3f</td>\n",
              "      <td>1</td>\n",
              "    </tr>\n",
              "    <tr>\n",
              "      <th>9</th>\n",
              "      <td>c5d98f749f3801b779c30748bced70ae046c5d28</td>\n",
              "      <td>2</td>\n",
              "    </tr>\n",
              "    <tr>\n",
              "      <th>10</th>\n",
              "      <td>d3129f1022beeb198ab4300647a33be502f5d637</td>\n",
              "      <td>2</td>\n",
              "    </tr>\n",
              "    <tr>\n",
              "      <th>11</th>\n",
              "      <td>da39a3ee5e6b4b0d3255bfef95601890afd80709</td>\n",
              "      <td>43319</td>\n",
              "    </tr>\n",
              "    <tr>\n",
              "      <th>12</th>\n",
              "      <td>pageowner</td>\n",
              "      <td>23817</td>\n",
              "    </tr>\n",
              "  </tbody>\n",
              "</table>\n",
              "</div>"
            ],
            "text/plain": [
              "                                  comment_by  KCBUserCount\n",
              "0   06defef94d761bc03dc61e7ed967ba52b2cee292             4\n",
              "1   073366d65811ace7ceb4a326efef9097ee46416b             1\n",
              "2   346256224d3885c2ebe8a13313bc81301286750c             8\n",
              "3   59577878e8039a025143ce4e7880676a1be2e809             2\n",
              "4   6aa862ed7bf8b6cd422ae6a5f076d2d58229371c             1\n",
              "5   7c6b41f394e9263960bd3c6956f9a162f0b3926e             1\n",
              "6   a9e9b2ead748b093dd671b9128736c6090aa8a22             1\n",
              "7   b31e2051b0d3e7499963f1ee46c832c3b07c53e2             3\n",
              "8   b82d96bbf286b8c20434e2bb31801673108f9f3f             1\n",
              "9   c5d98f749f3801b779c30748bced70ae046c5d28             2\n",
              "10  d3129f1022beeb198ab4300647a33be502f5d637             2\n",
              "11  da39a3ee5e6b4b0d3255bfef95601890afd80709         43319\n",
              "12                                 pageowner         23817"
            ]
          },
          "metadata": {
            "tags": []
          },
          "execution_count": 28
        }
      ]
    },
    {
      "cell_type": "code",
      "metadata": {
        "id": "mp9aRRkH2CWI",
        "colab_type": "code",
        "colab": {
          "base_uri": "https://localhost:8080/",
          "height": 274
        },
        "outputId": "6c76c816-ede7-48e1-a64c-677f07aeccbb"
      },
      "source": [
        "print('Equity Bank user id count data has a shape of ' + str(EquityGroup2.shape))\n",
        "print(' ')\n",
        "EquityGroup2.head(10)"
      ],
      "execution_count": 30,
      "outputs": [
        {
          "output_type": "stream",
          "text": [
            "Equity Bank user id count data has a shape of (6, 2)\n",
            " \n"
          ],
          "name": "stdout"
        },
        {
          "output_type": "execute_result",
          "data": {
            "text/html": [
              "<div>\n",
              "<style scoped>\n",
              "    .dataframe tbody tr th:only-of-type {\n",
              "        vertical-align: middle;\n",
              "    }\n",
              "\n",
              "    .dataframe tbody tr th {\n",
              "        vertical-align: top;\n",
              "    }\n",
              "\n",
              "    .dataframe thead th {\n",
              "        text-align: right;\n",
              "    }\n",
              "</style>\n",
              "<table border=\"1\" class=\"dataframe\">\n",
              "  <thead>\n",
              "    <tr style=\"text-align: right;\">\n",
              "      <th></th>\n",
              "      <th>comment_by</th>\n",
              "      <th>EquityUserCount</th>\n",
              "    </tr>\n",
              "  </thead>\n",
              "  <tbody>\n",
              "    <tr>\n",
              "      <th>0</th>\n",
              "      <td>346256224d3885c2ebe8a13313bc81301286750c</td>\n",
              "      <td>5</td>\n",
              "    </tr>\n",
              "    <tr>\n",
              "      <th>1</th>\n",
              "      <td>69b4296fb78778d63f0b681ba42e818970636b5d</td>\n",
              "      <td>1</td>\n",
              "    </tr>\n",
              "    <tr>\n",
              "      <th>2</th>\n",
              "      <td>9ef7ad63baeab28b77148d56a0fd3c1a67330965</td>\n",
              "      <td>1</td>\n",
              "    </tr>\n",
              "    <tr>\n",
              "      <th>3</th>\n",
              "      <td>b31e2051b0d3e7499963f1ee46c832c3b07c53e2</td>\n",
              "      <td>2</td>\n",
              "    </tr>\n",
              "    <tr>\n",
              "      <th>4</th>\n",
              "      <td>da39a3ee5e6b4b0d3255bfef95601890afd80709</td>\n",
              "      <td>22455</td>\n",
              "    </tr>\n",
              "    <tr>\n",
              "      <th>5</th>\n",
              "      <td>pageowner</td>\n",
              "      <td>18649</td>\n",
              "    </tr>\n",
              "  </tbody>\n",
              "</table>\n",
              "</div>"
            ],
            "text/plain": [
              "                                 comment_by  EquityUserCount\n",
              "0  346256224d3885c2ebe8a13313bc81301286750c                5\n",
              "1  69b4296fb78778d63f0b681ba42e818970636b5d                1\n",
              "2  9ef7ad63baeab28b77148d56a0fd3c1a67330965                1\n",
              "3  b31e2051b0d3e7499963f1ee46c832c3b07c53e2                2\n",
              "4  da39a3ee5e6b4b0d3255bfef95601890afd80709            22455\n",
              "5                                 pageowner            18649"
            ]
          },
          "metadata": {
            "tags": []
          },
          "execution_count": 30
        }
      ]
    },
    {
      "cell_type": "markdown",
      "metadata": {
        "id": "ZTfOVzlK3p6D",
        "colab_type": "text"
      },
      "source": [
        "Who are these mystery users, and what are they saying? To answer this question, we need to create filtered datasets.\n",
        "\n",
        "> We start with mystery user \"da39a3ee5e6b4b0d3255bfef95601890afd80709\".\n",
        "\n"
      ]
    },
    {
      "cell_type": "code",
      "metadata": {
        "id": "spVJkBQz379E",
        "colab_type": "code",
        "colab": {
          "base_uri": "https://localhost:8080/",
          "height": 574
        },
        "outputId": "cfba3026-4d64-4d3b-fd0c-d14130579edf"
      },
      "source": [
        "# First, let's examine the mystery commenter who is busy commenting on all 3 bank pages\n",
        "# Co-op filtered comments are:\n",
        "FilteredUser1 = Co_op[Co_op['comment_by'].str.contains(\"da39a3ee5e6b4b0d3255bfef95601890afd80709\")]\n",
        "FilteredUser1.head(5)"
      ],
      "execution_count": 40,
      "outputs": [
        {
          "output_type": "execute_result",
          "data": {
            "text/html": [
              "<div>\n",
              "<style scoped>\n",
              "    .dataframe tbody tr th:only-of-type {\n",
              "        vertical-align: middle;\n",
              "    }\n",
              "\n",
              "    .dataframe tbody tr th {\n",
              "        vertical-align: top;\n",
              "    }\n",
              "\n",
              "    .dataframe thead th {\n",
              "        text-align: right;\n",
              "    }\n",
              "</style>\n",
              "<table border=\"1\" class=\"dataframe\">\n",
              "  <thead>\n",
              "    <tr style=\"text-align: right;\">\n",
              "      <th></th>\n",
              "      <th>position</th>\n",
              "      <th>post_id</th>\n",
              "      <th>post_by</th>\n",
              "      <th>post_text</th>\n",
              "      <th>post_published</th>\n",
              "      <th>comment_id</th>\n",
              "      <th>comment_by</th>\n",
              "      <th>is_reply</th>\n",
              "      <th>comment_message</th>\n",
              "      <th>comment_published</th>\n",
              "      <th>comment_like_count</th>\n",
              "      <th>Bank</th>\n",
              "    </tr>\n",
              "  </thead>\n",
              "  <tbody>\n",
              "    <tr>\n",
              "      <th>1</th>\n",
              "      <td>0_1</td>\n",
              "      <td>167665299973840_2618333928240286</td>\n",
              "      <td>0ddb80635cd72093adc37322c7cb53f97b94ee8f</td>\n",
              "      <td>travelling this easter season ama uko mtaa?</td>\n",
              "      <td>2019-04-20T05:30:31+0000</td>\n",
              "      <td>2618333928240286_2618538161553196</td>\n",
              "      <td>da39a3ee5e6b4b0d3255bfef95601890afd80709</td>\n",
              "      <td>1</td>\n",
              "      <td>co-op bank kenya do not have other loan produc...</td>\n",
              "      <td>2019-04-20T07:42:19+0000</td>\n",
              "      <td>0</td>\n",
              "      <td>Co-op</td>\n",
              "    </tr>\n",
              "    <tr>\n",
              "      <th>3</th>\n",
              "      <td>0_3</td>\n",
              "      <td>167665299973840_2618333928240286</td>\n",
              "      <td>0ddb80635cd72093adc37322c7cb53f97b94ee8f</td>\n",
              "      <td>travelling this easter season ama uko mtaa?</td>\n",
              "      <td>2019-04-20T05:30:31+0000</td>\n",
              "      <td>2618333928240286_2618556491551363</td>\n",
              "      <td>da39a3ee5e6b4b0d3255bfef95601890afd80709</td>\n",
              "      <td>1</td>\n",
              "      <td>how to i pay the salary loan via mobile banking</td>\n",
              "      <td>2019-04-20T07:53:56+0000</td>\n",
              "      <td>0</td>\n",
              "      <td>Co-op</td>\n",
              "    </tr>\n",
              "    <tr>\n",
              "      <th>5</th>\n",
              "      <td>0_5</td>\n",
              "      <td>167665299973840_2618333928240286</td>\n",
              "      <td>0ddb80635cd72093adc37322c7cb53f97b94ee8f</td>\n",
              "      <td>travelling this easter season ama uko mtaa?</td>\n",
              "      <td>2019-04-20T05:30:31+0000</td>\n",
              "      <td>2618333928240286_2618487368224942</td>\n",
              "      <td>da39a3ee5e6b4b0d3255bfef95601890afd80709</td>\n",
              "      <td>0</td>\n",
              "      <td>what is the repayment period for the salary loan?</td>\n",
              "      <td>2019-04-20T07:09:50+0000</td>\n",
              "      <td>0</td>\n",
              "      <td>Co-op</td>\n",
              "    </tr>\n",
              "    <tr>\n",
              "      <th>7</th>\n",
              "      <td>0_7</td>\n",
              "      <td>167665299973840_2618333928240286</td>\n",
              "      <td>0ddb80635cd72093adc37322c7cb53f97b94ee8f</td>\n",
              "      <td>travelling this easter season ama uko mtaa?</td>\n",
              "      <td>2019-04-20T05:30:31+0000</td>\n",
              "      <td>2618333928240286_2618413194899026</td>\n",
              "      <td>da39a3ee5e6b4b0d3255bfef95601890afd80709</td>\n",
              "      <td>0</td>\n",
              "      <td>@ co-op bank kenya i�m tired of you spamming m...</td>\n",
              "      <td>2019-04-20T06:22:49+0000</td>\n",
              "      <td>0</td>\n",
              "      <td>Co-op</td>\n",
              "    </tr>\n",
              "    <tr>\n",
              "      <th>9</th>\n",
              "      <td>0_9</td>\n",
              "      <td>167665299973840_2618333928240286</td>\n",
              "      <td>0ddb80635cd72093adc37322c7cb53f97b94ee8f</td>\n",
              "      <td>travelling this easter season ama uko mtaa?</td>\n",
              "      <td>2019-04-20T05:30:31+0000</td>\n",
              "      <td>2618333928240286_2618481434892202</td>\n",
              "      <td>da39a3ee5e6b4b0d3255bfef95601890afd80709</td>\n",
              "      <td>0</td>\n",
              "      <td>am trying to use coop bank card to boost my fa...</td>\n",
              "      <td>2019-04-20T07:05:51+0000</td>\n",
              "      <td>0</td>\n",
              "      <td>Co-op</td>\n",
              "    </tr>\n",
              "  </tbody>\n",
              "</table>\n",
              "</div>"
            ],
            "text/plain": [
              "  position                           post_id  ... comment_like_count   Bank\n",
              "1      0_1  167665299973840_2618333928240286  ...                  0  Co-op\n",
              "3      0_3  167665299973840_2618333928240286  ...                  0  Co-op\n",
              "5      0_5  167665299973840_2618333928240286  ...                  0  Co-op\n",
              "7      0_7  167665299973840_2618333928240286  ...                  0  Co-op\n",
              "9      0_9  167665299973840_2618333928240286  ...                  0  Co-op\n",
              "\n",
              "[5 rows x 12 columns]"
            ]
          },
          "metadata": {
            "tags": []
          },
          "execution_count": 40
        }
      ]
    },
    {
      "cell_type": "code",
      "metadata": {
        "id": "umdTefmY6vl-",
        "colab_type": "code",
        "colab": {
          "base_uri": "https://localhost:8080/",
          "height": 469
        },
        "outputId": "4dc7720c-4a91-4212-b48a-806f88e3dea0"
      },
      "source": [
        "# KCB filtered comments are:\n",
        "FilteredUser1 = KCB[KCB['comment_by'].str.contains(\"da39a3ee5e6b4b0d3255bfef95601890afd80709\")]\n",
        "FilteredUser1.head(5)"
      ],
      "execution_count": 41,
      "outputs": [
        {
          "output_type": "execute_result",
          "data": {
            "text/html": [
              "<div>\n",
              "<style scoped>\n",
              "    .dataframe tbody tr th:only-of-type {\n",
              "        vertical-align: middle;\n",
              "    }\n",
              "\n",
              "    .dataframe tbody tr th {\n",
              "        vertical-align: top;\n",
              "    }\n",
              "\n",
              "    .dataframe thead th {\n",
              "        text-align: right;\n",
              "    }\n",
              "</style>\n",
              "<table border=\"1\" class=\"dataframe\">\n",
              "  <thead>\n",
              "    <tr style=\"text-align: right;\">\n",
              "      <th></th>\n",
              "      <th>position</th>\n",
              "      <th>post_id</th>\n",
              "      <th>post_by</th>\n",
              "      <th>post_text</th>\n",
              "      <th>post_published</th>\n",
              "      <th>comment_id</th>\n",
              "      <th>comment_by</th>\n",
              "      <th>is_reply</th>\n",
              "      <th>comment_message</th>\n",
              "      <th>comment_published</th>\n",
              "      <th>comment_like_count</th>\n",
              "      <th>Bank</th>\n",
              "    </tr>\n",
              "  </thead>\n",
              "  <tbody>\n",
              "    <tr>\n",
              "      <th>2</th>\n",
              "      <td>0_2</td>\n",
              "      <td>177618962271930_2940648462635619</td>\n",
              "      <td>4ccdd7de2af6b26d3aa85ca11d0612cab5d093fe</td>\n",
              "      <td>hy kcb iam a member of kcbmobigrow pls i need ...</td>\n",
              "      <td>2019-04-20T14:05:31+0000</td>\n",
              "      <td>2940648462635619_2940828969284235</td>\n",
              "      <td>da39a3ee5e6b4b0d3255bfef95601890afd80709</td>\n",
              "      <td>0</td>\n",
              "      <td>thenks</td>\n",
              "      <td>2019-04-20T15:57:55+0000</td>\n",
              "      <td>0</td>\n",
              "      <td>KCB</td>\n",
              "    </tr>\n",
              "    <tr>\n",
              "      <th>3</th>\n",
              "      <td>1_0</td>\n",
              "      <td>177618962271930_2940644035969395</td>\n",
              "      <td>4ccdd7de2af6b26d3aa85ca11d0612cab5d093fe</td>\n",
              "      <td>How can I get it</td>\n",
              "      <td>2019-04-20T14:02:42+0000</td>\n",
              "      <td>2940644035969395_2940788305954968</td>\n",
              "      <td>da39a3ee5e6b4b0d3255bfef95601890afd80709</td>\n",
              "      <td>1</td>\n",
              "      <td>Pepea pin</td>\n",
              "      <td>2019-04-20T15:30:40+0000</td>\n",
              "      <td>0</td>\n",
              "      <td>KCB</td>\n",
              "    </tr>\n",
              "    <tr>\n",
              "      <th>6</th>\n",
              "      <td>2_0</td>\n",
              "      <td>177618962271930_2940517722648693</td>\n",
              "      <td>4ccdd7de2af6b26d3aa85ca11d0612cab5d093fe</td>\n",
              "      <td>Hawa mnawajua?</td>\n",
              "      <td>2019-04-20T12:42:56+0000</td>\n",
              "      <td>2940517722648693_2940533472647118</td>\n",
              "      <td>da39a3ee5e6b4b0d3255bfef95601890afd80709</td>\n",
              "      <td>1</td>\n",
              "      <td>KCB Group I didn't call them back. I thought b...</td>\n",
              "      <td>2019-04-20T12:53:22+0000</td>\n",
              "      <td>0</td>\n",
              "      <td>KCB</td>\n",
              "    </tr>\n",
              "    <tr>\n",
              "      <th>11</th>\n",
              "      <td>3_2</td>\n",
              "      <td>177618962271930_2940255796008219</td>\n",
              "      <td>4ccdd7de2af6b26d3aa85ca11d0612cab5d093fe</td>\n",
              "      <td>Good afternoon. Your KCB Bank Kisumu  Advantag...</td>\n",
              "      <td>2019-04-20T09:16:05+0000</td>\n",
              "      <td>2940255796008219_2940268892673576</td>\n",
              "      <td>da39a3ee5e6b4b0d3255bfef95601890afd80709</td>\n",
              "      <td>0</td>\n",
              "      <td>Just tell your guys to speed up and serve cust...</td>\n",
              "      <td>2019-04-20T09:26:59+0000</td>\n",
              "      <td>0</td>\n",
              "      <td>KCB</td>\n",
              "    </tr>\n",
              "    <tr>\n",
              "      <th>14</th>\n",
              "      <td>4_2</td>\n",
              "      <td>177618962271930_2940157922684673</td>\n",
              "      <td>4ccdd7de2af6b26d3aa85ca11d0612cab5d093fe</td>\n",
              "      <td>KCB mpesa is afake since last year I ve been r...</td>\n",
              "      <td>2019-04-20T07:49:49+0000</td>\n",
              "      <td>2940157922684673_2940665862633879</td>\n",
              "      <td>da39a3ee5e6b4b0d3255bfef95601890afd80709</td>\n",
              "      <td>0</td>\n",
              "      <td>Same case with me,0721781508</td>\n",
              "      <td>2019-04-20T14:17:20+0000</td>\n",
              "      <td>0</td>\n",
              "      <td>KCB</td>\n",
              "    </tr>\n",
              "  </tbody>\n",
              "</table>\n",
              "</div>"
            ],
            "text/plain": [
              "   position                           post_id  ... comment_like_count Bank\n",
              "2       0_2  177618962271930_2940648462635619  ...                  0  KCB\n",
              "3       1_0  177618962271930_2940644035969395  ...                  0  KCB\n",
              "6       2_0  177618962271930_2940517722648693  ...                  0  KCB\n",
              "11      3_2  177618962271930_2940255796008219  ...                  0  KCB\n",
              "14      4_2  177618962271930_2940157922684673  ...                  0  KCB\n",
              "\n",
              "[5 rows x 12 columns]"
            ]
          },
          "metadata": {
            "tags": []
          },
          "execution_count": 41
        }
      ]
    },
    {
      "cell_type": "code",
      "metadata": {
        "id": "sgk6LNAj8UPw",
        "colab_type": "code",
        "colab": {
          "base_uri": "https://localhost:8080/",
          "height": 1095
        },
        "outputId": "9c8ac4f1-07e3-4f7b-eed2-8257681027f7"
      },
      "source": [
        "# Equity filtered comments are:\n",
        "FilteredUser1 = Equity[Equity['comment_by'].str.contains(\"da39a3ee5e6b4b0d3255bfef95601890afd80709\")]\n",
        "FilteredUser1.head(10)"
      ],
      "execution_count": 53,
      "outputs": [
        {
          "output_type": "execute_result",
          "data": {
            "text/html": [
              "<div>\n",
              "<style scoped>\n",
              "    .dataframe tbody tr th:only-of-type {\n",
              "        vertical-align: middle;\n",
              "    }\n",
              "\n",
              "    .dataframe tbody tr th {\n",
              "        vertical-align: top;\n",
              "    }\n",
              "\n",
              "    .dataframe thead th {\n",
              "        text-align: right;\n",
              "    }\n",
              "</style>\n",
              "<table border=\"1\" class=\"dataframe\">\n",
              "  <thead>\n",
              "    <tr style=\"text-align: right;\">\n",
              "      <th></th>\n",
              "      <th>position</th>\n",
              "      <th>post_id</th>\n",
              "      <th>post_by</th>\n",
              "      <th>post_text</th>\n",
              "      <th>post_published</th>\n",
              "      <th>comment_id</th>\n",
              "      <th>comment_by</th>\n",
              "      <th>is_reply</th>\n",
              "      <th>comment_message</th>\n",
              "      <th>comment_published</th>\n",
              "      <th>comment_like_count</th>\n",
              "      <th>Bank</th>\n",
              "    </tr>\n",
              "  </thead>\n",
              "  <tbody>\n",
              "    <tr>\n",
              "      <th>3</th>\n",
              "      <td>2_2</td>\n",
              "      <td>160566687422299_1722813137864305</td>\n",
              "      <td>232ef22f027506bc8032053c1101c3e6d73060ed</td>\n",
              "      <td>MAMBO VP EQUITY BANK MNAESHA NIPEA LOAN?</td>\n",
              "      <td>2019-04-20T08:27:32+0000</td>\n",
              "      <td>1722813137864305_1722876524524633</td>\n",
              "      <td>da39a3ee5e6b4b0d3255bfef95601890afd80709</td>\n",
              "      <td>0</td>\n",
              "      <td>sina unaweza fungua na uombe loan</td>\n",
              "      <td>2019-04-20T10:16:55+0000</td>\n",
              "      <td>0</td>\n",
              "      <td>Equity</td>\n",
              "    </tr>\n",
              "    <tr>\n",
              "      <th>6</th>\n",
              "      <td>3_2</td>\n",
              "      <td>160566687422299_1721286358016983</td>\n",
              "      <td>b45d16877f65f7dad2bc0fc4f259416797fd350e</td>\n",
              "      <td>Huyu ni ule msee ata attend bash zote and yet ...</td>\n",
              "      <td>2019-04-20T07:00:02+0000</td>\n",
              "      <td>1721286358016983_1722954857850133</td>\n",
              "      <td>da39a3ee5e6b4b0d3255bfef95601890afd80709</td>\n",
              "      <td>0</td>\n",
              "      <td>Happy  Easter</td>\n",
              "      <td>2019-04-20T12:29:59+0000</td>\n",
              "      <td>0</td>\n",
              "      <td>Equity</td>\n",
              "    </tr>\n",
              "    <tr>\n",
              "      <th>8</th>\n",
              "      <td>3_4</td>\n",
              "      <td>160566687422299_1721286358016983</td>\n",
              "      <td>b45d16877f65f7dad2bc0fc4f259416797fd350e</td>\n",
              "      <td>Huyu ni ule msee ata attend bash zote and yet ...</td>\n",
              "      <td>2019-04-20T07:00:02+0000</td>\n",
              "      <td>1721286358016983_1722925667853052</td>\n",
              "      <td>da39a3ee5e6b4b0d3255bfef95601890afd80709</td>\n",
              "      <td>0</td>\n",
              "      <td>So just because I defaulted payment of a salar...</td>\n",
              "      <td>2019-04-20T11:37:20+0000</td>\n",
              "      <td>0</td>\n",
              "      <td>Equity</td>\n",
              "    </tr>\n",
              "    <tr>\n",
              "      <th>10</th>\n",
              "      <td>3_6</td>\n",
              "      <td>160566687422299_1721286358016983</td>\n",
              "      <td>b45d16877f65f7dad2bc0fc4f259416797fd350e</td>\n",
              "      <td>Huyu ni ule msee ata attend bash zote and yet ...</td>\n",
              "      <td>2019-04-20T07:00:02+0000</td>\n",
              "      <td>1721286358016983_1722913231187629</td>\n",
              "      <td>da39a3ee5e6b4b0d3255bfef95601890afd80709</td>\n",
              "      <td>0</td>\n",
              "      <td>I took an easyloan through my account, which h...</td>\n",
              "      <td>2019-04-20T11:17:30+0000</td>\n",
              "      <td>0</td>\n",
              "      <td>Equity</td>\n",
              "    </tr>\n",
              "    <tr>\n",
              "      <th>12</th>\n",
              "      <td>3_8</td>\n",
              "      <td>160566687422299_1721286358016983</td>\n",
              "      <td>b45d16877f65f7dad2bc0fc4f259416797fd350e</td>\n",
              "      <td>Huyu ni ule msee ata attend bash zote and yet ...</td>\n",
              "      <td>2019-04-20T07:00:02+0000</td>\n",
              "      <td>1721286358016983_1722788501200102</td>\n",
              "      <td>da39a3ee5e6b4b0d3255bfef95601890afd80709</td>\n",
              "      <td>0</td>\n",
              "      <td>Happy Easter</td>\n",
              "      <td>2019-04-20T07:46:07+0000</td>\n",
              "      <td>0</td>\n",
              "      <td>Equity</td>\n",
              "    </tr>\n",
              "    <tr>\n",
              "      <th>14</th>\n",
              "      <td>3_10</td>\n",
              "      <td>160566687422299_1721286358016983</td>\n",
              "      <td>b45d16877f65f7dad2bc0fc4f259416797fd350e</td>\n",
              "      <td>Huyu ni ule msee ata attend bash zote and yet ...</td>\n",
              "      <td>2019-04-20T07:00:02+0000</td>\n",
              "      <td>1721286358016983_1722788424533443</td>\n",
              "      <td>da39a3ee5e6b4b0d3255bfef95601890afd80709</td>\n",
              "      <td>0</td>\n",
              "      <td>Gotta</td>\n",
              "      <td>2019-04-20T07:45:57+0000</td>\n",
              "      <td>0</td>\n",
              "      <td>Equity</td>\n",
              "    </tr>\n",
              "    <tr>\n",
              "      <th>16</th>\n",
              "      <td>3_12</td>\n",
              "      <td>160566687422299_1721286358016983</td>\n",
              "      <td>b45d16877f65f7dad2bc0fc4f259416797fd350e</td>\n",
              "      <td>Huyu ni ule msee ata attend bash zote and yet ...</td>\n",
              "      <td>2019-04-20T07:00:02+0000</td>\n",
              "      <td>1721286358016983_1722905307855088</td>\n",
              "      <td>da39a3ee5e6b4b0d3255bfef95601890afd80709</td>\n",
              "      <td>1</td>\n",
              "      <td>Equity Bank Kenya why should I talk to you guy...</td>\n",
              "      <td>2019-04-20T11:03:04+0000</td>\n",
              "      <td>0</td>\n",
              "      <td>Equity</td>\n",
              "    </tr>\n",
              "    <tr>\n",
              "      <th>17</th>\n",
              "      <td>3_13</td>\n",
              "      <td>160566687422299_1721286358016983</td>\n",
              "      <td>b45d16877f65f7dad2bc0fc4f259416797fd350e</td>\n",
              "      <td>Huyu ni ule msee ata attend bash zote and yet ...</td>\n",
              "      <td>2019-04-20T07:00:02+0000</td>\n",
              "      <td>1721286358016983_1722803277865291</td>\n",
              "      <td>da39a3ee5e6b4b0d3255bfef95601890afd80709</td>\n",
              "      <td>0</td>\n",
              "      <td>Buda Lala wacha Kusumbua watu Easter?</td>\n",
              "      <td>2019-04-20T08:13:48+0000</td>\n",
              "      <td>1</td>\n",
              "      <td>Equity</td>\n",
              "    </tr>\n",
              "    <tr>\n",
              "      <th>19</th>\n",
              "      <td>3_15</td>\n",
              "      <td>160566687422299_1721286358016983</td>\n",
              "      <td>b45d16877f65f7dad2bc0fc4f259416797fd350e</td>\n",
              "      <td>Huyu ni ule msee ata attend bash zote and yet ...</td>\n",
              "      <td>2019-04-20T07:00:02+0000</td>\n",
              "      <td>1721286358016983_1722788461200106</td>\n",
              "      <td>da39a3ee5e6b4b0d3255bfef95601890afd80709</td>\n",
              "      <td>0</td>\n",
              "      <td>Si I thought office za equity zimefungwa,ama w...</td>\n",
              "      <td>2019-04-20T07:46:02+0000</td>\n",
              "      <td>1</td>\n",
              "      <td>Equity</td>\n",
              "    </tr>\n",
              "    <tr>\n",
              "      <th>21</th>\n",
              "      <td>3_17</td>\n",
              "      <td>160566687422299_1721286358016983</td>\n",
              "      <td>b45d16877f65f7dad2bc0fc4f259416797fd350e</td>\n",
              "      <td>Huyu ni ule msee ata attend bash zote and yet ...</td>\n",
              "      <td>2019-04-20T07:00:02+0000</td>\n",
              "      <td>1721286358016983_1722816114530674</td>\n",
              "      <td>da39a3ee5e6b4b0d3255bfef95601890afd80709</td>\n",
              "      <td>0</td>\n",
              "      <td>Is your Airport branch open for business today?</td>\n",
              "      <td>2019-04-20T08:32:08+0000</td>\n",
              "      <td>0</td>\n",
              "      <td>Equity</td>\n",
              "    </tr>\n",
              "  </tbody>\n",
              "</table>\n",
              "</div>"
            ],
            "text/plain": [
              "   position                           post_id  ... comment_like_count    Bank\n",
              "3       2_2  160566687422299_1722813137864305  ...                  0  Equity\n",
              "6       3_2  160566687422299_1721286358016983  ...                  0  Equity\n",
              "8       3_4  160566687422299_1721286358016983  ...                  0  Equity\n",
              "10      3_6  160566687422299_1721286358016983  ...                  0  Equity\n",
              "12      3_8  160566687422299_1721286358016983  ...                  0  Equity\n",
              "14     3_10  160566687422299_1721286358016983  ...                  0  Equity\n",
              "16     3_12  160566687422299_1721286358016983  ...                  0  Equity\n",
              "17     3_13  160566687422299_1721286358016983  ...                  1  Equity\n",
              "19     3_15  160566687422299_1721286358016983  ...                  1  Equity\n",
              "21     3_17  160566687422299_1721286358016983  ...                  0  Equity\n",
              "\n",
              "[10 rows x 12 columns]"
            ]
          },
          "metadata": {
            "tags": []
          },
          "execution_count": 53
        }
      ]
    },
    {
      "cell_type": "markdown",
      "metadata": {
        "id": "DDgS_rUn9Baw",
        "colab_type": "text"
      },
      "source": [
        "The comments above look very spammy; however, the language used would be a mixture of English, Kiswahili and Sheng, used by people in the informal sector.\n",
        "\n",
        "\n",
        "---"
      ]
    },
    {
      "cell_type": "markdown",
      "metadata": {
        "id": "wFPb2VFm9gGK",
        "colab_type": "text"
      },
      "source": [
        "Now we can examine comments put out by \"pageowner\" across the different pages:"
      ]
    },
    {
      "cell_type": "code",
      "metadata": {
        "id": "o3tjX97F8-nm",
        "colab_type": "code",
        "colab": {
          "base_uri": "https://localhost:8080/",
          "height": 574
        },
        "outputId": "be61702b-8cb3-4f77-b1c0-aa11738dd907"
      },
      "source": [
        "# Let us investigate \"pageowner\"\n",
        "# Co-op filtered comments are:\n",
        "FilteredUser2 = Co_op[Co_op['comment_by'].str.contains(\"pageowner\")]\n",
        "FilteredUser2.head(5)"
      ],
      "execution_count": 43,
      "outputs": [
        {
          "output_type": "execute_result",
          "data": {
            "text/html": [
              "<div>\n",
              "<style scoped>\n",
              "    .dataframe tbody tr th:only-of-type {\n",
              "        vertical-align: middle;\n",
              "    }\n",
              "\n",
              "    .dataframe tbody tr th {\n",
              "        vertical-align: top;\n",
              "    }\n",
              "\n",
              "    .dataframe thead th {\n",
              "        text-align: right;\n",
              "    }\n",
              "</style>\n",
              "<table border=\"1\" class=\"dataframe\">\n",
              "  <thead>\n",
              "    <tr style=\"text-align: right;\">\n",
              "      <th></th>\n",
              "      <th>position</th>\n",
              "      <th>post_id</th>\n",
              "      <th>post_by</th>\n",
              "      <th>post_text</th>\n",
              "      <th>post_published</th>\n",
              "      <th>comment_id</th>\n",
              "      <th>comment_by</th>\n",
              "      <th>is_reply</th>\n",
              "      <th>comment_message</th>\n",
              "      <th>comment_published</th>\n",
              "      <th>comment_like_count</th>\n",
              "      <th>Bank</th>\n",
              "    </tr>\n",
              "  </thead>\n",
              "  <tbody>\n",
              "    <tr>\n",
              "      <th>0</th>\n",
              "      <td>0_0</td>\n",
              "      <td>167665299973840_2618333928240286</td>\n",
              "      <td>0ddb80635cd72093adc37322c7cb53f97b94ee8f</td>\n",
              "      <td>travelling this easter season ama uko mtaa?</td>\n",
              "      <td>2019-04-20T05:30:31+0000</td>\n",
              "      <td>2618333928240286_2618521441554868</td>\n",
              "      <td>pageowner</td>\n",
              "      <td>1</td>\n",
              "      <td>hallo david, we have one month and 3 months re...</td>\n",
              "      <td>2019-04-20T07:31:46+0000</td>\n",
              "      <td>0</td>\n",
              "      <td>Co-op</td>\n",
              "    </tr>\n",
              "    <tr>\n",
              "      <th>2</th>\n",
              "      <td>0_2</td>\n",
              "      <td>167665299973840_2618333928240286</td>\n",
              "      <td>0ddb80635cd72093adc37322c7cb53f97b94ee8f</td>\n",
              "      <td>travelling this easter season ama uko mtaa?</td>\n",
              "      <td>2019-04-20T05:30:31+0000</td>\n",
              "      <td>2618333928240286_2618544508219228</td>\n",
              "      <td>pageowner</td>\n",
              "      <td>1</td>\n",
              "      <td>yes we have personal loan which you can apply ...</td>\n",
              "      <td>2019-04-20T07:46:28+0000</td>\n",
              "      <td>0</td>\n",
              "      <td>Co-op</td>\n",
              "    </tr>\n",
              "    <tr>\n",
              "      <th>4</th>\n",
              "      <td>0_4</td>\n",
              "      <td>167665299973840_2618333928240286</td>\n",
              "      <td>0ddb80635cd72093adc37322c7cb53f97b94ee8f</td>\n",
              "      <td>travelling this easter season ama uko mtaa?</td>\n",
              "      <td>2019-04-20T05:30:31+0000</td>\n",
              "      <td>2618333928240286_2618563248217354</td>\n",
              "      <td>pageowner</td>\n",
              "      <td>1</td>\n",
              "      <td>please check inbox for our response. ^fk</td>\n",
              "      <td>2019-04-20T07:57:34+0000</td>\n",
              "      <td>0</td>\n",
              "      <td>Co-op</td>\n",
              "    </tr>\n",
              "    <tr>\n",
              "      <th>6</th>\n",
              "      <td>0_6</td>\n",
              "      <td>167665299973840_2618333928240286</td>\n",
              "      <td>0ddb80635cd72093adc37322c7cb53f97b94ee8f</td>\n",
              "      <td>travelling this easter season ama uko mtaa?</td>\n",
              "      <td>2019-04-20T05:30:31+0000</td>\n",
              "      <td>2618333928240286_2618457118227967</td>\n",
              "      <td>pageowner</td>\n",
              "      <td>1</td>\n",
              "      <td>hallo wanjiru. we have been in touch . please ...</td>\n",
              "      <td>2019-04-20T06:49:56+0000</td>\n",
              "      <td>0</td>\n",
              "      <td>Co-op</td>\n",
              "    </tr>\n",
              "    <tr>\n",
              "      <th>8</th>\n",
              "      <td>0_8</td>\n",
              "      <td>167665299973840_2618333928240286</td>\n",
              "      <td>0ddb80635cd72093adc37322c7cb53f97b94ee8f</td>\n",
              "      <td>travelling this easter season ama uko mtaa?</td>\n",
              "      <td>2019-04-20T05:30:31+0000</td>\n",
              "      <td>2618333928240286_2618522661554746</td>\n",
              "      <td>pageowner</td>\n",
              "      <td>1</td>\n",
              "      <td>we have responded on inbox fortune. ^fk</td>\n",
              "      <td>2019-04-20T07:32:32+0000</td>\n",
              "      <td>0</td>\n",
              "      <td>Co-op</td>\n",
              "    </tr>\n",
              "  </tbody>\n",
              "</table>\n",
              "</div>"
            ],
            "text/plain": [
              "  position                           post_id  ... comment_like_count   Bank\n",
              "0      0_0  167665299973840_2618333928240286  ...                  0  Co-op\n",
              "2      0_2  167665299973840_2618333928240286  ...                  0  Co-op\n",
              "4      0_4  167665299973840_2618333928240286  ...                  0  Co-op\n",
              "6      0_6  167665299973840_2618333928240286  ...                  0  Co-op\n",
              "8      0_8  167665299973840_2618333928240286  ...                  0  Co-op\n",
              "\n",
              "[5 rows x 12 columns]"
            ]
          },
          "metadata": {
            "tags": []
          },
          "execution_count": 43
        }
      ]
    },
    {
      "cell_type": "code",
      "metadata": {
        "id": "iVwekRKP-sXj",
        "colab_type": "code",
        "colab": {
          "base_uri": "https://localhost:8080/",
          "height": 452
        },
        "outputId": "29d876d8-d5ca-4666-9831-415c8a765003"
      },
      "source": [
        "# KCB filtered comments are:\n",
        "FilteredUser2 = KCB[KCB['comment_by'].str.contains(\"pageowner\")]\n",
        "FilteredUser2.head(5)"
      ],
      "execution_count": 44,
      "outputs": [
        {
          "output_type": "execute_result",
          "data": {
            "text/html": [
              "<div>\n",
              "<style scoped>\n",
              "    .dataframe tbody tr th:only-of-type {\n",
              "        vertical-align: middle;\n",
              "    }\n",
              "\n",
              "    .dataframe tbody tr th {\n",
              "        vertical-align: top;\n",
              "    }\n",
              "\n",
              "    .dataframe thead th {\n",
              "        text-align: right;\n",
              "    }\n",
              "</style>\n",
              "<table border=\"1\" class=\"dataframe\">\n",
              "  <thead>\n",
              "    <tr style=\"text-align: right;\">\n",
              "      <th></th>\n",
              "      <th>position</th>\n",
              "      <th>post_id</th>\n",
              "      <th>post_by</th>\n",
              "      <th>post_text</th>\n",
              "      <th>post_published</th>\n",
              "      <th>comment_id</th>\n",
              "      <th>comment_by</th>\n",
              "      <th>is_reply</th>\n",
              "      <th>comment_message</th>\n",
              "      <th>comment_published</th>\n",
              "      <th>comment_like_count</th>\n",
              "      <th>Bank</th>\n",
              "    </tr>\n",
              "  </thead>\n",
              "  <tbody>\n",
              "    <tr>\n",
              "      <th>0</th>\n",
              "      <td>0_0</td>\n",
              "      <td>177618962271930_2940648462635619</td>\n",
              "      <td>4ccdd7de2af6b26d3aa85ca11d0612cab5d093fe</td>\n",
              "      <td>hy kcb iam a member of kcbmobigrow pls i need ...</td>\n",
              "      <td>2019-04-20T14:05:31+0000</td>\n",
              "      <td>2940648462635619_2940693485964450</td>\n",
              "      <td>pageowner</td>\n",
              "      <td>0</td>\n",
              "      <td>Hello, please visit us at the branch we will b...</td>\n",
              "      <td>2019-04-20T14:34:37+0000</td>\n",
              "      <td>0</td>\n",
              "      <td>KCB</td>\n",
              "    </tr>\n",
              "    <tr>\n",
              "      <th>1</th>\n",
              "      <td>0_1</td>\n",
              "      <td>177618962271930_2940648462635619</td>\n",
              "      <td>4ccdd7de2af6b26d3aa85ca11d0612cab5d093fe</td>\n",
              "      <td>hy kcb iam a member of kcbmobigrow pls i need ...</td>\n",
              "      <td>2019-04-20T14:05:31+0000</td>\n",
              "      <td>2940648462635619_2940831569283975</td>\n",
              "      <td>pageowner</td>\n",
              "      <td>1</td>\n",
              "      <td>?</td>\n",
              "      <td>2019-04-20T15:59:32+0000</td>\n",
              "      <td>0</td>\n",
              "      <td>KCB</td>\n",
              "    </tr>\n",
              "    <tr>\n",
              "      <th>4</th>\n",
              "      <td>1_1</td>\n",
              "      <td>177618962271930_2940644035969395</td>\n",
              "      <td>4ccdd7de2af6b26d3aa85ca11d0612cab5d093fe</td>\n",
              "      <td>How can I get it</td>\n",
              "      <td>2019-04-20T14:02:42+0000</td>\n",
              "      <td>2940644035969395_2940790792621386</td>\n",
              "      <td>pageowner</td>\n",
              "      <td>1</td>\n",
              "      <td>Please visit us at the branch we will be glad ...</td>\n",
              "      <td>2019-04-20T15:32:25+0000</td>\n",
              "      <td>0</td>\n",
              "      <td>KCB</td>\n",
              "    </tr>\n",
              "    <tr>\n",
              "      <th>5</th>\n",
              "      <td>1_2</td>\n",
              "      <td>177618962271930_2940644035969395</td>\n",
              "      <td>4ccdd7de2af6b26d3aa85ca11d0612cab5d093fe</td>\n",
              "      <td>How can I get it</td>\n",
              "      <td>2019-04-20T14:02:42+0000</td>\n",
              "      <td>2940644035969395_2940690262631439</td>\n",
              "      <td>pageowner</td>\n",
              "      <td>0</td>\n",
              "      <td>Hello, what service are you referring to .^MK</td>\n",
              "      <td>2019-04-20T14:32:27+0000</td>\n",
              "      <td>1</td>\n",
              "      <td>KCB</td>\n",
              "    </tr>\n",
              "    <tr>\n",
              "      <th>7</th>\n",
              "      <td>2_1</td>\n",
              "      <td>177618962271930_2940517722648693</td>\n",
              "      <td>4ccdd7de2af6b26d3aa85ca11d0612cab5d093fe</td>\n",
              "      <td>Hawa mnawajua?</td>\n",
              "      <td>2019-04-20T12:42:56+0000</td>\n",
              "      <td>2940517722648693_2940554462645019</td>\n",
              "      <td>pageowner</td>\n",
              "      <td>1</td>\n",
              "      <td>Thank you for sharing .Please send that number...</td>\n",
              "      <td>2019-04-20T13:05:08+0000</td>\n",
              "      <td>0</td>\n",
              "      <td>KCB</td>\n",
              "    </tr>\n",
              "  </tbody>\n",
              "</table>\n",
              "</div>"
            ],
            "text/plain": [
              "  position                           post_id  ... comment_like_count Bank\n",
              "0      0_0  177618962271930_2940648462635619  ...                  0  KCB\n",
              "1      0_1  177618962271930_2940648462635619  ...                  0  KCB\n",
              "4      1_1  177618962271930_2940644035969395  ...                  0  KCB\n",
              "5      1_2  177618962271930_2940644035969395  ...                  1  KCB\n",
              "7      2_1  177618962271930_2940517722648693  ...                  0  KCB\n",
              "\n",
              "[5 rows x 12 columns]"
            ]
          },
          "metadata": {
            "tags": []
          },
          "execution_count": 44
        }
      ]
    },
    {
      "cell_type": "code",
      "metadata": {
        "id": "k3YX6B2O_ab_",
        "colab_type": "code",
        "colab": {
          "base_uri": "https://localhost:8080/",
          "height": 626
        },
        "outputId": "3489169a-a346-46b1-d693-bc6f51ecf104"
      },
      "source": [
        "# Equity filtered comments are:\n",
        "FilteredUser2 = Equity[Equity['comment_by'].str.contains(\"pageowner\")]\n",
        "FilteredUser2.head(5)"
      ],
      "execution_count": 45,
      "outputs": [
        {
          "output_type": "execute_result",
          "data": {
            "text/html": [
              "<div>\n",
              "<style scoped>\n",
              "    .dataframe tbody tr th:only-of-type {\n",
              "        vertical-align: middle;\n",
              "    }\n",
              "\n",
              "    .dataframe tbody tr th {\n",
              "        vertical-align: top;\n",
              "    }\n",
              "\n",
              "    .dataframe thead th {\n",
              "        text-align: right;\n",
              "    }\n",
              "</style>\n",
              "<table border=\"1\" class=\"dataframe\">\n",
              "  <thead>\n",
              "    <tr style=\"text-align: right;\">\n",
              "      <th></th>\n",
              "      <th>position</th>\n",
              "      <th>post_id</th>\n",
              "      <th>post_by</th>\n",
              "      <th>post_text</th>\n",
              "      <th>post_published</th>\n",
              "      <th>comment_id</th>\n",
              "      <th>comment_by</th>\n",
              "      <th>is_reply</th>\n",
              "      <th>comment_message</th>\n",
              "      <th>comment_published</th>\n",
              "      <th>comment_like_count</th>\n",
              "      <th>Bank</th>\n",
              "    </tr>\n",
              "  </thead>\n",
              "  <tbody>\n",
              "    <tr>\n",
              "      <th>0</th>\n",
              "      <td>1_0</td>\n",
              "      <td>160566687422299_1722829227862696</td>\n",
              "      <td>232ef22f027506bc8032053c1101c3e6d73060ed</td>\n",
              "      <td>can some help me register online bankig it kee...</td>\n",
              "      <td>2019-04-20T08:57:28+0000</td>\n",
              "      <td>1722829227862696_1722985404513745</td>\n",
              "      <td>pageowner</td>\n",
              "      <td>0</td>\n",
              "      <td>Hello Karanja, trust you are well. The e-mail ...</td>\n",
              "      <td>2019-04-20T13:26:09+0000</td>\n",
              "      <td>0</td>\n",
              "      <td>Equity</td>\n",
              "    </tr>\n",
              "    <tr>\n",
              "      <th>1</th>\n",
              "      <td>2_0</td>\n",
              "      <td>160566687422299_1722813137864305</td>\n",
              "      <td>232ef22f027506bc8032053c1101c3e6d73060ed</td>\n",
              "      <td>MAMBO VP EQUITY BANK MNAESHA NIPEA LOAN?</td>\n",
              "      <td>2019-04-20T08:27:32+0000</td>\n",
              "      <td>1722813137864305_1722869884525297</td>\n",
              "      <td>pageowner</td>\n",
              "      <td>0</td>\n",
              "      <td>Jambo Ezira, unaweza kuomba Loan na sisi kulin...</td>\n",
              "      <td>2019-04-20T10:03:49+0000</td>\n",
              "      <td>0</td>\n",
              "      <td>Equity</td>\n",
              "    </tr>\n",
              "    <tr>\n",
              "      <th>2</th>\n",
              "      <td>2_1</td>\n",
              "      <td>160566687422299_1722813137864305</td>\n",
              "      <td>232ef22f027506bc8032053c1101c3e6d73060ed</td>\n",
              "      <td>MAMBO VP EQUITY BANK MNAESHA NIPEA LOAN?</td>\n",
              "      <td>2019-04-20T08:27:32+0000</td>\n",
              "      <td>1722813137864305_1722980404514245</td>\n",
              "      <td>pageowner</td>\n",
              "      <td>1</td>\n",
              "      <td>Ukishafungua akaunti, utaitumia kwa muda wa mi...</td>\n",
              "      <td>2019-04-20T13:18:37+0000</td>\n",
              "      <td>0</td>\n",
              "      <td>Equity</td>\n",
              "    </tr>\n",
              "    <tr>\n",
              "      <th>4</th>\n",
              "      <td>3_0</td>\n",
              "      <td>160566687422299_1721286358016983</td>\n",
              "      <td>b45d16877f65f7dad2bc0fc4f259416797fd350e</td>\n",
              "      <td>Huyu ni ule msee ata attend bash zote and yet ...</td>\n",
              "      <td>2019-04-20T07:00:02+0000</td>\n",
              "      <td>1721286358016983_1722907151188237</td>\n",
              "      <td>pageowner</td>\n",
              "      <td>0</td>\n",
              "      <td>Happy Easter Rose.</td>\n",
              "      <td>2019-04-20T11:07:00+0000</td>\n",
              "      <td>0</td>\n",
              "      <td>Equity</td>\n",
              "    </tr>\n",
              "    <tr>\n",
              "      <th>5</th>\n",
              "      <td>3_1</td>\n",
              "      <td>160566687422299_1721286358016983</td>\n",
              "      <td>b45d16877f65f7dad2bc0fc4f259416797fd350e</td>\n",
              "      <td>Huyu ni ule msee ata attend bash zote and yet ...</td>\n",
              "      <td>2019-04-20T07:00:02+0000</td>\n",
              "      <td>1721286358016983_1723003047845314</td>\n",
              "      <td>pageowner</td>\n",
              "      <td>1</td>\n",
              "      <td>Happy Easter Joni.</td>\n",
              "      <td>2019-04-20T13:49:38+0000</td>\n",
              "      <td>0</td>\n",
              "      <td>Equity</td>\n",
              "    </tr>\n",
              "  </tbody>\n",
              "</table>\n",
              "</div>"
            ],
            "text/plain": [
              "  position                           post_id  ... comment_like_count    Bank\n",
              "0      1_0  160566687422299_1722829227862696  ...                  0  Equity\n",
              "1      2_0  160566687422299_1722813137864305  ...                  0  Equity\n",
              "2      2_1  160566687422299_1722813137864305  ...                  0  Equity\n",
              "4      3_0  160566687422299_1721286358016983  ...                  0  Equity\n",
              "5      3_1  160566687422299_1721286358016983  ...                  0  Equity\n",
              "\n",
              "[5 rows x 12 columns]"
            ]
          },
          "metadata": {
            "tags": []
          },
          "execution_count": 45
        }
      ]
    },
    {
      "cell_type": "markdown",
      "metadata": {
        "id": "GIfG91PeAVJi",
        "colab_type": "text"
      },
      "source": [
        "We can safely say that pageowner appears to be the Facebook page admin on each of the banks' Facebook pages."
      ]
    },
    {
      "cell_type": "markdown",
      "metadata": {
        "id": "bUZsdfHhB9jG",
        "colab_type": "text"
      },
      "source": [
        "#In conclusion\n",
        "Based on the huge imbalance in terms of users, this data will not be used for further analysis or machine learning; however, this report is a useful first step in understanding how the informal sector interacts with banking in general."
      ]
    }
  ]
}